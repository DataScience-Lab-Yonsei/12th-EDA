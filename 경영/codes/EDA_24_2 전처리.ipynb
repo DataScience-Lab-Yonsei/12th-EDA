{
 "cells": [
  {
   "cell_type": "code",
   "execution_count": null,
   "metadata": {},
   "outputs": [],
   "source": [
    "import pandas as pd\n",
    "import numpy as np"
   ]
  },
  {
   "cell_type": "code",
   "execution_count": null,
   "metadata": {},
   "outputs": [],
   "source": [
    "df_closed = pd.read_csv(\"/Users/jeongsooyoon/Desktop/DSL/24-2 EDA (경영)/서울시 상권분석서비스(점포-자치구).csv\",\n",
    "                        encoding = 'cp949')\n",
    "df_earned = pd.read_csv(\"/Users/jeongsooyoon/Desktop/DSL/24-2 EDA (경영)/서울시 상권분석서비스(추정매출-자치구).csv\",\n",
    "                        encoding = 'cp949')\n",
    "\n",
    "df_closed.head()"
   ]
  },
  {
   "cell_type": "code",
   "execution_count": null,
   "metadata": {},
   "outputs": [],
   "source": [
    "df_closed.columns"
   ]
  },
  {
   "cell_type": "code",
   "execution_count": null,
   "metadata": {},
   "outputs": [],
   "source": [
    "df_earned['서비스_업종_코드_명'].values"
   ]
  },
  {
   "cell_type": "code",
   "execution_count": null,
   "metadata": {},
   "outputs": [],
   "source": [
    "# 매핑 딕셔너리 생성후 지정해줬던 23개 카테고리로 나눔.\n",
    "mapping = {\n",
    "    'PC방': '스포츠/여가',\n",
    "    '가구': '소매(가구)',\n",
    "    '가방': '소매(의류)',\n",
    "    '가전제품': '소매(전자제품)',\n",
    "    '가전제품수리': '전자제품 관련 서비스',\n",
    "    '고시원': '숙박업',\n",
    "    '골프연습장': '스포츠/여가',\n",
    "    '네일숍': '미용',\n",
    "    '노래방': '스포츠/여가',\n",
    "    '당구장': '스포츠/여가',\n",
    "    '문구': '소매(서적/문구)',\n",
    "    '미곡판매': '소매(식품)',\n",
    "    '미용실': '미용',\n",
    "    '반찬가게': '소매(식품)',\n",
    "    '부동산중개업': '부동산',\n",
    "    '분식전문점': '식당',\n",
    "    '서적': '소매(서적/문구)',\n",
    "    '섬유제품': '빼기',\n",
    "    '세탁소': '빼기',\n",
    "    '수산물판매': '소매(식품)',\n",
    "    '슈퍼마켓': '소매(생활)',\n",
    "    '스포츠 강습': '교육/학원',\n",
    "    '스포츠클럽': '스포츠/여가',\n",
    "    '시계및귀금속': '빼기',\n",
    "    '신발': '소매(의류)',\n",
    "    '안경': '소매(안경)',\n",
    "    '애완동물': '반려동물',\n",
    "    '양식음식점': '식당',\n",
    "    '여관': '숙박업',\n",
    "    '예술학원': '교육/학원',\n",
    "    '완구': '소매(서적/문구)',\n",
    "    '외국어학원': '교육/학원',\n",
    "    '운동/경기용품': '소매(스포츠)',\n",
    "    '육류판매': '소매(식품)',\n",
    "    '의료기기': '소매(의료)',\n",
    "    '의약품': '소매(의료)',\n",
    "    '인테리어': '빼기',\n",
    "    '일반교습학원': '교육/학원',\n",
    "    '일반의류': '소매(의류)',\n",
    "    '일반의원': '필수의료',\n",
    "    '일식음식점': '식당',\n",
    "    '자동차미용': '차량 관련 서비스',\n",
    "    '자동차수리': '차량 관련 서비스',\n",
    "    '자전거 및 기타운송장비': '소매(운송)',\n",
    "    '전자상거래업': '소매(전자제품)',\n",
    "    '제과점': '카페 및 베이커리',\n",
    "    '조명용품': '소매(가구)',\n",
    "    '중식음식점': '식당',\n",
    "    '철물점': '빼기',\n",
    "    '청과상': '소매(식품)',\n",
    "    '치과의원': '필수의료',\n",
    "    '치킨전문점': '식당',\n",
    "    '커피-음료': '카페 및 베이커리',\n",
    "    '컴퓨터및주변장치판매': '소매(전자제품)',\n",
    "    '패스트푸드점': '식당',\n",
    "    '편의점': '소매(생활)',\n",
    "    '피부관리실': '미용',\n",
    "    '한식음식점': '식당',\n",
    "    '한의원': '필수의료',\n",
    "    '핸드폰': '소매(전자제품)',\n",
    "    '호프-간이주점': '주점',\n",
    "    '화장품': '소매(미용)',\n",
    "    '화초': '빼기',\n",
    "    '전자상거래업':'소매(전자제품)'\n",
    "}\n",
    "\n",
    "# 데이터프레임의 '서비스_업종_코드_명' 컬럼 값을 정리 (공백 제거 등)\n",
    "df_earned['서비스_업종_코드_명'] = df_earned['서비스_업종_코드_명'].str.strip()\n",
    "\n",
    "# 컬럼 값 변경\n",
    "df_earned['서비스_업종_코드_명'] = df_earned['서비스_업종_코드_명'].map(mapping)\n",
    "\n",
    "# 결과 확인\n",
    "df_earned"
   ]
  },
  {
   "cell_type": "code",
   "execution_count": null,
   "metadata": {},
   "outputs": [],
   "source": [
    "# '빼기' 값을 가진 행 삭제\n",
    "df_earned = df_earned[df_earned['서비스_업종_코드_명'] != '빼기']\n",
    "\n",
    "# 결과 확인\n",
    "df_earned\n",
    "\n",
    "#df_earned.to_csv('df_earned_23.csv', index=False)\n",
    "\n",
    "len(df_earned['서비스_업종_코드_명'].unique())"
   ]
  },
  {
   "cell_type": "code",
   "execution_count": null,
   "metadata": {},
   "outputs": [],
   "source": [
    "import pandas as pd\n",
    "\n",
    "# 매핑 딕셔너리 생성\n",
    "mapping = {\n",
    "    '한식음식점': '식당',\n",
    "    '중식음식점': '식당',\n",
    "    '일식음식점': '식당',\n",
    "    '양식음식점': '식당',\n",
    "    '제과점': '카페 및 베이커리',\n",
    "    '패스트푸드점': '식당',\n",
    "    '치킨전문점': '식당',\n",
    "    '분식전문점': '식당',\n",
    "    '호프-간이주점': '주점',\n",
    "    '커피-음료': '카페 및 베이커리',\n",
    "    '일반교습학원': '교육/학원',\n",
    "    '외국어학원': '교육/학원',\n",
    "    '예술학원': '교육/학원',\n",
    "    '컴퓨터학원': '교육/학원',\n",
    "    '스포츠 강습': '교육/학원',\n",
    "    '일반의원': '필수의료',\n",
    "    '치과의원': '필수의료',\n",
    "    '한의원': '필수의료',\n",
    "    '동물병원': '반려동물',\n",
    "    '당구장': '스포츠/여가',\n",
    "    '골프연습장': '스포츠/여가',\n",
    "    '볼링장': '스포츠/여가',\n",
    "    'PC방': '스포츠/여가',\n",
    "    '전자게임장': '스포츠/여가',\n",
    "    '기타오락장': '스포츠/여가',\n",
    "    '스포츠클럽': '스포츠/여가',\n",
    "    '자동차수리': '차량 관련 서비스',\n",
    "    '자동차미용': '차량 관련 서비스',\n",
    "    '모터사이클수리': '차량 관련 서비스',\n",
    "    '미용실': '미용',\n",
    "    '네일숍': '미용',\n",
    "    '피부관리실': '미용',\n",
    "    '가전제품수리': '전자제품 관련 서비스',\n",
    "    '부동산중개업': '부동산',\n",
    "    '여관': '숙박업',\n",
    "    '게스트하우스': '숙박업',\n",
    "    '고시원': '숙박업',\n",
    "    '노래방': '스포츠/여가',\n",
    "    '독서실': '교육/학원',\n",
    "    '슈퍼마켓': '소매(생활)',\n",
    "    '편의점': '소매(생활)',\n",
    "    '컴퓨터및주변장치판매': '소매(전자제품)',\n",
    "    '핸드폰': '소매(전자제품)',\n",
    "    '미곡판매': '소매(식품)',\n",
    "    '육류판매': '소매(식품)',\n",
    "    '수산물판매': '소매(식품)',\n",
    "    '청과상': '소매(식품)',\n",
    "    '반찬가게': '소매(식품)',\n",
    "    '일반의류': '소매(의류)',\n",
    "    '한복점': '소매(의류)',\n",
    "    '유아의류': '소매(의류)',\n",
    "    '신발': '소매(의류)',\n",
    "    '가방': '소매(의류)',\n",
    "    '안경': '소매(안경)',\n",
    "    '의약품': '소매(의료)',\n",
    "    '의료기기': '소매(의료)',\n",
    "    '서적': '소매(서적/문구)',\n",
    "    '문구': '소매(서적/문구)',\n",
    "    '화장품': '소매(미용)',\n",
    "    '미용재료': '소매(미용)',\n",
    "    '운동/경기용품': '소매(스포츠)',\n",
    "    '자전거 및 기타운송장비': '소매(운송)',\n",
    "    '완구': '소매(서적/문구)',\n",
    "    '애완동물': '반려동물',\n",
    "    '중고가구': '소매(가구)',\n",
    "    '가구': '소매(가구)',\n",
    "    '가전제품': '소매(전자제품)',\n",
    "    '조명용품': '소매(가구)',\n",
    "    '자동차부품': '소매(운송)',\n",
    "    '모터사이클및부품': '소매(운송)',\n",
    "    '주유소': '주유소',\n",
    "    '전자상거래업':'소매(전자제품)'\n",
    "}\n",
    "\n",
    "# 데이터프레임의 '서비스_업종_코드_명' 컬럼 값을 정리 (공백 제거 등)\n",
    "df_closed['서비스_업종_코드_명'] = df_closed['서비스_업종_코드_명'].str.strip()\n",
    "\n",
    "# 컬럼 값 변경\n",
    "df_closed['서비스_업종_코드_명'] = df_closed['서비스_업종_코드_명'].map(mapping)\n",
    "\n",
    "# 결과 확인\n",
    "df_closed\n"
   ]
  },
  {
   "cell_type": "code",
   "execution_count": null,
   "metadata": {},
   "outputs": [],
   "source": [
    "df_closed = df_closed.dropna(subset=['서비스_업종_코드_명'])\n",
    "#매출 데이터에 주유소도 없기에 삭제\n",
    "df_closed = df_closed[df_closed['서비스_업종_코드_명'] != '주유소']\n",
    "df_closed['서비스_업종_코드_명'].unique()"
   ]
  },
  {
   "cell_type": "code",
   "execution_count": null,
   "metadata": {},
   "outputs": [],
   "source": [
    "df_earned['서비스_업종_코드_명'].unique()"
   ]
  },
  {
   "cell_type": "code",
   "execution_count": null,
   "metadata": {},
   "outputs": [],
   "source": [
    "df_closed[~df_closed['서비스_업종_코드_명'].isin(df_earned['서비스_업종_코드_명'])]"
   ]
  },
  {
   "cell_type": "code",
   "execution_count": null,
   "metadata": {},
   "outputs": [],
   "source": [
    "#df_closed.to_csv('df_closed_23.csv', index=False)"
   ]
  },
  {
   "cell_type": "code",
   "execution_count": 3,
   "metadata": {},
   "outputs": [
    {
     "data": {
      "text/html": [
       "<div>\n",
       "<style scoped>\n",
       "    .dataframe tbody tr th:only-of-type {\n",
       "        vertical-align: middle;\n",
       "    }\n",
       "\n",
       "    .dataframe tbody tr th {\n",
       "        vertical-align: top;\n",
       "    }\n",
       "\n",
       "    .dataframe thead th {\n",
       "        text-align: right;\n",
       "    }\n",
       "</style>\n",
       "<table border=\"1\" class=\"dataframe\">\n",
       "  <thead>\n",
       "    <tr style=\"text-align: right;\">\n",
       "      <th></th>\n",
       "      <th>서비스_업종_코드_명</th>\n",
       "      <th>점포_수</th>\n",
       "      <th>유사_업종_점포_수</th>\n",
       "      <th>개업_점포_수</th>\n",
       "      <th>폐업_점포_수</th>\n",
       "      <th>프랜차이즈_점포_수</th>\n",
       "      <th>labels</th>\n",
       "    </tr>\n",
       "  </thead>\n",
       "  <tbody>\n",
       "    <tr>\n",
       "      <th>0</th>\n",
       "      <td>소매(전자제품)</td>\n",
       "      <td>0.138226</td>\n",
       "      <td>0.138292</td>\n",
       "      <td>0.003322</td>\n",
       "      <td>0.213894</td>\n",
       "      <td>0.004206</td>\n",
       "      <td>3</td>\n",
       "    </tr>\n",
       "    <tr>\n",
       "      <th>1</th>\n",
       "      <td>소매(운송)</td>\n",
       "      <td>0.001234</td>\n",
       "      <td>0.001232</td>\n",
       "      <td>0.000000</td>\n",
       "      <td>0.000000</td>\n",
       "      <td>0.000000</td>\n",
       "      <td>2</td>\n",
       "    </tr>\n",
       "    <tr>\n",
       "      <th>2</th>\n",
       "      <td>소매(운송)</td>\n",
       "      <td>0.006168</td>\n",
       "      <td>0.006295</td>\n",
       "      <td>0.001107</td>\n",
       "      <td>0.001828</td>\n",
       "      <td>0.002103</td>\n",
       "      <td>2</td>\n",
       "    </tr>\n",
       "    <tr>\n",
       "      <th>3</th>\n",
       "      <td>소매(가구)</td>\n",
       "      <td>0.009320</td>\n",
       "      <td>0.009306</td>\n",
       "      <td>0.000000</td>\n",
       "      <td>0.007313</td>\n",
       "      <td>0.000000</td>\n",
       "      <td>2</td>\n",
       "    </tr>\n",
       "    <tr>\n",
       "      <th>4</th>\n",
       "      <td>소매(전자제품)</td>\n",
       "      <td>0.009320</td>\n",
       "      <td>0.009306</td>\n",
       "      <td>0.000000</td>\n",
       "      <td>0.009141</td>\n",
       "      <td>0.000000</td>\n",
       "      <td>2</td>\n",
       "    </tr>\n",
       "    <tr>\n",
       "      <th>...</th>\n",
       "      <td>...</td>\n",
       "      <td>...</td>\n",
       "      <td>...</td>\n",
       "      <td>...</td>\n",
       "      <td>...</td>\n",
       "      <td>...</td>\n",
       "      <td>...</td>\n",
       "    </tr>\n",
       "    <tr>\n",
       "      <th>37265</th>\n",
       "      <td>카페 및 베이커리</td>\n",
       "      <td>0.010211</td>\n",
       "      <td>0.015533</td>\n",
       "      <td>0.023256</td>\n",
       "      <td>0.016453</td>\n",
       "      <td>0.082019</td>\n",
       "      <td>1</td>\n",
       "    </tr>\n",
       "    <tr>\n",
       "      <th>37266</th>\n",
       "      <td>식당</td>\n",
       "      <td>0.032004</td>\n",
       "      <td>0.035240</td>\n",
       "      <td>0.026578</td>\n",
       "      <td>0.032907</td>\n",
       "      <td>0.050473</td>\n",
       "      <td>1</td>\n",
       "    </tr>\n",
       "    <tr>\n",
       "      <th>37267</th>\n",
       "      <td>식당</td>\n",
       "      <td>0.017133</td>\n",
       "      <td>0.020528</td>\n",
       "      <td>0.019934</td>\n",
       "      <td>0.021938</td>\n",
       "      <td>0.052576</td>\n",
       "      <td>1</td>\n",
       "    </tr>\n",
       "    <tr>\n",
       "      <th>37268</th>\n",
       "      <td>식당</td>\n",
       "      <td>0.013569</td>\n",
       "      <td>0.014507</td>\n",
       "      <td>0.009967</td>\n",
       "      <td>0.025594</td>\n",
       "      <td>0.014721</td>\n",
       "      <td>1</td>\n",
       "    </tr>\n",
       "    <tr>\n",
       "      <th>37269</th>\n",
       "      <td>식당</td>\n",
       "      <td>0.182086</td>\n",
       "      <td>0.197961</td>\n",
       "      <td>0.107420</td>\n",
       "      <td>0.202925</td>\n",
       "      <td>0.248160</td>\n",
       "      <td>4</td>\n",
       "    </tr>\n",
       "  </tbody>\n",
       "</table>\n",
       "<p>37270 rows × 7 columns</p>\n",
       "</div>"
      ],
      "text/plain": [
       "      서비스_업종_코드_명      점포_수  유사_업종_점포_수   개업_점포_수   폐업_점포_수  프랜차이즈_점포_수  \\\n",
       "0        소매(전자제품)  0.138226    0.138292  0.003322  0.213894    0.004206   \n",
       "1          소매(운송)  0.001234    0.001232  0.000000  0.000000    0.000000   \n",
       "2          소매(운송)  0.006168    0.006295  0.001107  0.001828    0.002103   \n",
       "3          소매(가구)  0.009320    0.009306  0.000000  0.007313    0.000000   \n",
       "4        소매(전자제품)  0.009320    0.009306  0.000000  0.009141    0.000000   \n",
       "...           ...       ...         ...       ...       ...         ...   \n",
       "37265   카페 및 베이커리  0.010211    0.015533  0.023256  0.016453    0.082019   \n",
       "37266          식당  0.032004    0.035240  0.026578  0.032907    0.050473   \n",
       "37267          식당  0.017133    0.020528  0.019934  0.021938    0.052576   \n",
       "37268          식당  0.013569    0.014507  0.009967  0.025594    0.014721   \n",
       "37269          식당  0.182086    0.197961  0.107420  0.202925    0.248160   \n",
       "\n",
       "       labels  \n",
       "0           3  \n",
       "1           2  \n",
       "2           2  \n",
       "3           2  \n",
       "4           2  \n",
       "...       ...  \n",
       "37265       1  \n",
       "37266       1  \n",
       "37267       1  \n",
       "37268       1  \n",
       "37269       4  \n",
       "\n",
       "[37270 rows x 7 columns]"
      ]
     },
     "execution_count": 3,
     "metadata": {},
     "output_type": "execute_result"
    }
   ],
   "source": [
    "import pandas as pd\n",
    "\n",
    "# Load the CSV file\n",
    "file_path = 'labeledClosed.csv'\n",
    "df = pd.read_csv(file_path)\n",
    "df"
   ]
  },
  {
   "cell_type": "code",
   "execution_count": 4,
   "metadata": {},
   "outputs": [
    {
     "name": "stdout",
     "output_type": "stream",
     "text": [
      "  Service_Industry_Code_Name  Number_of_Stores  Number_of_Similar_Industry  \\\n",
      "0       Retail (Electronics)          0.138226                    0.138292   \n",
      "1    Retail (Transportation)          0.001234                    0.001232   \n",
      "2    Retail (Transportation)          0.006168                    0.006295   \n",
      "3         Retail (Furniture)          0.009320                    0.009306   \n",
      "4       Retail (Electronics)          0.009320                    0.009306   \n",
      "\n",
      "   Number_of_Opening  Number_of_Closing  Number_of_Franchise  Labels  \n",
      "0           0.003322           0.213894             0.004206       3  \n",
      "1           0.000000           0.000000             0.000000       2  \n",
      "2           0.001107           0.001828             0.002103       2  \n",
      "3           0.000000           0.007313             0.000000       2  \n",
      "4           0.000000           0.009141             0.000000       2  \n"
     ]
    }
   ],
   "source": [
    "# Dictionary for translating Korean to English for column names\n",
    "translation_dict = {\n",
    "    '서비스_업종_코드_명': 'Service_Industry_Code_Name',\n",
    "    '점포_수': 'Number_of_Stores',\n",
    "    '유사_업종_점포_수': 'Number_of_Similar_Industry',\n",
    "    '개업_점포_수': 'Number_of_Opening',\n",
    "    '폐업_점포_수': 'Number_of_Closing',\n",
    "    '프랜차이즈_점포_수': 'Number_of_Franchise',\n",
    "    'labels': 'Labels'\n",
    "}\n",
    "\n",
    "# Renaming the columns\n",
    "df.rename(columns=translation_dict, inplace=True)\n",
    "\n",
    "# Dictionary for translating the unique Korean service industry names to English\n",
    "service_translation_dict = {\n",
    "    '소매(전자제품)': 'Retail (Electronics)',\n",
    "    '소매(운송)': 'Retail (Transportation)',\n",
    "    '소매(가구)': 'Retail (Furniture)',\n",
    "    '반려동물': 'Pet Services'\n",
    "    '소매(서적/문구)': 'Retail (Books/Stationery)',\n",
    "    '소매(스포츠)': 'Retail (Sports)',\n",
    "    '소매(미용)': 'Retail (Beauty)',\n",
    "    '소매(의료)': 'Retail (Medical)',\n",
    "    '소매(안경)': 'Retail (Optics)',\n",
    "    '소매(의류)': 'Retail (Clothing)',\n",
    "    '소매(식품)': 'Retail (Food)',\n",
    "    '소매(생활)': 'Retail (Household)',\n",
    "    '교육/학원': 'Education/Academy',\n",
    "    '스포츠/여가': 'Sports/Leisure',\n",
    "    '숙박업': 'Lodging',\n",
    "    '부동산': 'Real Estate',\n",
    "    '전자제품 관련 서비스': 'Electronics Related Services',\n",
    "    '미용': 'Beauty Services',\n",
    "    '차량 관련 서비스': 'Vehicle Related Services',\n",
    "    '필수의료': 'Essential Medical',\n",
    "    '카페 및 베이커리': 'Cafe and Bakery',\n",
    "    '주점': 'Pub',\n",
    "    '식당': 'Restaurant'\n",
    "}\n",
    "\n",
    "# Replace the Korean service industry names with their English translations in the dataframe\n",
    "df['Service_Industry_Code_Name'] = df['Service_Industry_Code_Name'].map(service_translation_dict)\n",
    "\n",
    "# Save the updated dataframe to a new CSV file if needed\n",
    "df.to_csv('translated_labeledClosed.csv', index=False)\n",
    "\n",
    "# Display the updated dataframe\n",
    "print(df.head())"
   ]
  },
  {
   "cell_type": "code",
   "execution_count": 6,
   "metadata": {},
   "outputs": [],
   "source": [
    "import matplotlib as mpl\n",
    "import matplotlib.pyplot as plt"
   ]
  },
  {
   "cell_type": "code",
   "execution_count": 7,
   "metadata": {},
   "outputs": [
    {
     "data": {
      "text/plain": [
       "'/Library/Frameworks/Python.framework/Versions/3.11/lib/python3.11/site-packages/matplotlib/mpl-data/matplotlibrc'"
      ]
     },
     "execution_count": 7,
     "metadata": {},
     "output_type": "execute_result"
    }
   ],
   "source": [
    "mpl.matplotlib_fname()"
   ]
  },
  {
   "cell_type": "code",
   "execution_count": 8,
   "metadata": {},
   "outputs": [
    {
     "data": {
      "text/plain": [
       "'/Users/jeongsooyoon/.matplotlib'"
      ]
     },
     "execution_count": 8,
     "metadata": {},
     "output_type": "execute_result"
    }
   ],
   "source": [
    "mpl.get_cachedir()"
   ]
  },
  {
   "cell_type": "code",
   "execution_count": 9,
   "metadata": {},
   "outputs": [],
   "source": [
    "mpl.rcParams['font.family'] = 'NanumGothic'"
   ]
  },
  {
   "cell_type": "code",
   "execution_count": 10,
   "metadata": {},
   "outputs": [
    {
     "data": {
      "image/png": "[encoded data removed]",
      "text/plain": [
       "<Figure size 640x480 with 1 Axes>"
      ]
     },
     "metadata": {},
     "output_type": "display_data"
    }
   ],
   "source": [
    "plt.plot([1,2,3,4])\n",
    "plt.title('제발나와')\n",
    "plt.show()"
   ]
  },
  {
   "cell_type": "code",
   "execution_count": 1,
   "metadata": {},
   "outputs": [
    {
     "data": {
      "image/png": "[encoded data removed]",
      "text/plain": [
       "<Figure size 2000x600 with 4 Axes>"
      ]
     },
     "metadata": {},
     "output_type": "display_data"
    }
   ],
   "source": [
    "import pandas as pd\n",
    "import seaborn as sns\n",
    "import matplotlib.pyplot as plt\n",
    "\n",
    "# 예시 데이터프레임 생성 (실제 데이터로 교체할 수 있습니다)\n",
    "data = {\n",
    "    'OS': ['Android', 'Android', 'Android', 'iOS', 'iOS'],\n",
    "    'ISP': ['Cox', 'Xfinity', 'AT&T', 'Xfinity', 'AT&T'],\n",
    "    'Age': [30, 19, 20, 33, 29],\n",
    "    'Time Spent': [556.818709, 996.303312, 864.063922, 617.564914, 74.853883],\n",
    "    'Labels': [1, 2, 3, 2, 1]\n",
    "}\n",
    "\n",
    "df = pd.DataFrame(data)\n",
    "\n",
    "# 각 특성에 대해 swarmplot 생성\n",
    "plt.figure(figsize=(20, 6))\n",
    "\n",
    "# OS vs Labels\n",
    "plt.subplot(1, 4, 1)\n",
    "sns.swarmplot(x='OS', y='Labels', data=df)\n",
    "plt.title('OS vs Labels')\n",
    "\n",
    "# ISP vs Labels\n",
    "plt.subplot(1, 4, 2)\n",
    "sns.swarmplot(x='ISP', y='Labels', data=df)\n",
    "plt.title('ISP vs Labels')\n",
    "\n",
    "# Age vs Labels\n",
    "plt.subplot(1, 4, 3)\n",
    "sns.swarmplot(x=[0]*len(df), y='Age', hue='Labels', data=df)\n",
    "plt.title('Age vs Labels')\n",
    "plt.xlabel('Constant')\n",
    "\n",
    "# Time Spent vs Labels\n",
    "plt.subplot(1, 4, 4)\n",
    "sns.swarmplot(x=[0]*len(df), y='Time Spent', hue='Labels', data=df)\n",
    "plt.title('Time Spent vs Labels')\n",
    "plt.xlabel('Constant')\n",
    "\n",
    "plt.tight_layout()\n",
    "plt.show()\n"
   ]
  },
  {
   "cell_type": "code",
   "execution_count": 46,
   "metadata": {},
   "outputs": [],
   "source": [
    "df_closed = pd.read_csv('df_closed_23.csv')\n",
    "df_closed.head()\n",
    "df_closed_picked = df_closed[['서비스_업종_코드_명', '점포_수',\n",
    "       '유사_업종_점포_수', '개업_점포_수', '폐업_점포_수', '프랜차이즈_점포_수']]\n",
    "\n",
    "#df_closed_picked.to_csv('df_closed_picked.csv', index=False)"
   ]
  },
  {
   "cell_type": "code",
   "execution_count": 47,
   "metadata": {},
   "outputs": [
    {
     "data": {
      "text/html": [
       "<div>\n",
       "<style scoped>\n",
       "    .dataframe tbody tr th:only-of-type {\n",
       "        vertical-align: middle;\n",
       "    }\n",
       "\n",
       "    .dataframe tbody tr th {\n",
       "        vertical-align: top;\n",
       "    }\n",
       "\n",
       "    .dataframe thead th {\n",
       "        text-align: right;\n",
       "    }\n",
       "</style>\n",
       "<table border=\"1\" class=\"dataframe\">\n",
       "  <thead>\n",
       "    <tr style=\"text-align: right;\">\n",
       "      <th></th>\n",
       "      <th>서비스_업종_코드_명</th>\n",
       "      <th>점포_수</th>\n",
       "      <th>유사_업종_점포_수</th>\n",
       "      <th>개업_점포_수</th>\n",
       "      <th>폐업_점포_수</th>\n",
       "      <th>프랜차이즈_점포_수</th>\n",
       "    </tr>\n",
       "  </thead>\n",
       "  <tbody>\n",
       "    <tr>\n",
       "      <th>0</th>\n",
       "      <td>소매(전자제품)</td>\n",
       "      <td>2018.0</td>\n",
       "      <td>2022.0</td>\n",
       "      <td>3.0</td>\n",
       "      <td>117.0</td>\n",
       "      <td>4.0</td>\n",
       "    </tr>\n",
       "    <tr>\n",
       "      <th>1</th>\n",
       "      <td>소매(운송)</td>\n",
       "      <td>19.0</td>\n",
       "      <td>19.0</td>\n",
       "      <td>0.0</td>\n",
       "      <td>0.0</td>\n",
       "      <td>0.0</td>\n",
       "    </tr>\n",
       "    <tr>\n",
       "      <th>2</th>\n",
       "      <td>소매(운송)</td>\n",
       "      <td>91.0</td>\n",
       "      <td>93.0</td>\n",
       "      <td>1.0</td>\n",
       "      <td>1.0</td>\n",
       "      <td>2.0</td>\n",
       "    </tr>\n",
       "    <tr>\n",
       "      <th>3</th>\n",
       "      <td>소매(가구)</td>\n",
       "      <td>137.0</td>\n",
       "      <td>137.0</td>\n",
       "      <td>0.0</td>\n",
       "      <td>4.0</td>\n",
       "      <td>0.0</td>\n",
       "    </tr>\n",
       "    <tr>\n",
       "      <th>4</th>\n",
       "      <td>소매(전자제품)</td>\n",
       "      <td>137.0</td>\n",
       "      <td>137.0</td>\n",
       "      <td>0.0</td>\n",
       "      <td>5.0</td>\n",
       "      <td>0.0</td>\n",
       "    </tr>\n",
       "  </tbody>\n",
       "</table>\n",
       "</div>"
      ],
      "text/plain": [
       "  서비스_업종_코드_명    점포_수  유사_업종_점포_수  개업_점포_수  폐업_점포_수  프랜차이즈_점포_수\n",
       "0    소매(전자제품)  2018.0      2022.0      3.0    117.0         4.0\n",
       "1      소매(운송)    19.0        19.0      0.0      0.0         0.0\n",
       "2      소매(운송)    91.0        93.0      1.0      1.0         2.0\n",
       "3      소매(가구)   137.0       137.0      0.0      4.0         0.0\n",
       "4    소매(전자제품)   137.0       137.0      0.0      5.0         0.0"
      ]
     },
     "execution_count": 47,
     "metadata": {},
     "output_type": "execute_result"
    }
   ],
   "source": [
    "df_closed_picked.head()"
   ]
  },
  {
   "cell_type": "code",
   "execution_count": 48,
   "metadata": {},
   "outputs": [
    {
     "data": {
      "text/html": [
       "<div>\n",
       "<style scoped>\n",
       "    .dataframe tbody tr th:only-of-type {\n",
       "        vertical-align: middle;\n",
       "    }\n",
       "\n",
       "    .dataframe tbody tr th {\n",
       "        vertical-align: top;\n",
       "    }\n",
       "\n",
       "    .dataframe thead th {\n",
       "        text-align: right;\n",
       "    }\n",
       "</style>\n",
       "<table border=\"1\" class=\"dataframe\">\n",
       "  <thead>\n",
       "    <tr style=\"text-align: right;\">\n",
       "      <th></th>\n",
       "      <th>서비스_업종_코드_명</th>\n",
       "      <th>점포_수</th>\n",
       "      <th>유사_업종_점포_수</th>\n",
       "      <th>개업_점포_수</th>\n",
       "      <th>폐업_점포_수</th>\n",
       "      <th>프랜차이즈_점포_수</th>\n",
       "    </tr>\n",
       "  </thead>\n",
       "  <tbody>\n",
       "    <tr>\n",
       "      <th>0</th>\n",
       "      <td>교육/학원</td>\n",
       "      <td>690742.0</td>\n",
       "      <td>741981.0</td>\n",
       "      <td>26076.0</td>\n",
       "      <td>19500.0</td>\n",
       "      <td>51239.0</td>\n",
       "    </tr>\n",
       "    <tr>\n",
       "      <th>1</th>\n",
       "      <td>미용</td>\n",
       "      <td>567867.0</td>\n",
       "      <td>597968.0</td>\n",
       "      <td>19412.0</td>\n",
       "      <td>13588.0</td>\n",
       "      <td>30101.0</td>\n",
       "    </tr>\n",
       "    <tr>\n",
       "      <th>2</th>\n",
       "      <td>반려동물</td>\n",
       "      <td>60046.0</td>\n",
       "      <td>61245.0</td>\n",
       "      <td>2624.0</td>\n",
       "      <td>1490.0</td>\n",
       "      <td>1199.0</td>\n",
       "    </tr>\n",
       "    <tr>\n",
       "      <th>3</th>\n",
       "      <td>부동산</td>\n",
       "      <td>700747.0</td>\n",
       "      <td>700926.0</td>\n",
       "      <td>13396.0</td>\n",
       "      <td>11443.0</td>\n",
       "      <td>179.0</td>\n",
       "    </tr>\n",
       "    <tr>\n",
       "      <th>4</th>\n",
       "      <td>소매(가구)</td>\n",
       "      <td>262862.0</td>\n",
       "      <td>263166.0</td>\n",
       "      <td>2845.0</td>\n",
       "      <td>2703.0</td>\n",
       "      <td>304.0</td>\n",
       "    </tr>\n",
       "  </tbody>\n",
       "</table>\n",
       "</div>"
      ],
      "text/plain": [
       "  서비스_업종_코드_명      점포_수  유사_업종_점포_수  개업_점포_수  폐업_점포_수  프랜차이즈_점포_수\n",
       "0       교육/학원  690742.0    741981.0  26076.0  19500.0     51239.0\n",
       "1          미용  567867.0    597968.0  19412.0  13588.0     30101.0\n",
       "2        반려동물   60046.0     61245.0   2624.0   1490.0      1199.0\n",
       "3         부동산  700747.0    700926.0  13396.0  11443.0       179.0\n",
       "4      소매(가구)  262862.0    263166.0   2845.0   2703.0       304.0"
      ]
     },
     "execution_count": 48,
     "metadata": {},
     "output_type": "execute_result"
    }
   ],
   "source": [
    "#업종 기준으로 나머지 sum\n",
    "df_grouped = df_closed_picked.groupby(\"서비스_업종_코드_명\").sum().reset_index()\n",
    "df_grouped.head()"
   ]
  },
  {
   "cell_type": "code",
   "execution_count": 74,
   "metadata": {},
   "outputs": [],
   "source": [
    "#df_grouped.to_csv('df_grouped_sum.csv')"
   ]
  },
  {
   "cell_type": "markdown",
   "metadata": {},
   "source": [
    "### 시각화"
   ]
  },
  {
   "cell_type": "code",
   "execution_count": 66,
   "metadata": {},
   "outputs": [
    {
     "data": {
      "text/plain": [
       "Index(['Service_Industry_Code_Name', 'Number_of_Stores',\n",
       "       'Number_of_Similar_Industry', 'Number_of_Opening', 'Number_of_Closing',\n",
       "       '프랜차이즈_점포_수'],\n",
       "      dtype='object')"
      ]
     },
     "execution_count": 66,
     "metadata": {},
     "output_type": "execute_result"
    }
   ],
   "source": [
    "df_grouped_eng.columns"
   ]
  },
  {
   "cell_type": "code",
   "execution_count": 61,
   "metadata": {},
   "outputs": [
    {
     "data": {
      "text/plain": [
       "<matplotlib.legend.Legend at 0x2ae682650>"
      ]
     },
     "execution_count": 61,
     "metadata": {},
     "output_type": "execute_result"
    },
    {
     "data": {
      "image/png": "[encoded data removed]",
      "text/plain": [
       "<Figure size 1400x800 with 2 Axes>"
      ]
     },
     "metadata": {},
     "output_type": "display_data"
    }
   ],
   "source": [
    "# Plotting\n",
    "fig, ax1 = plt.subplots(figsize=(14, 8))\n",
    "\n",
    "# Bar plot for Number_of_Stores, Number_of_Similar_Industry, Number_of_Franchise\n",
    "bar_width = 0.25\n",
    "index = range(len(df_grouped_eng))\n",
    "\n",
    "bar1 = ax1.bar(index, df_grouped_eng['Number_of_Stores'], bar_width, label='Number_of_Stores', color='b')\n",
    "bar2 = ax1.bar([i + bar_width for i in index], df_grouped_eng['Number_of_Similar_Industry'], bar_width, label='Number_of_Similar_Industry', color='g')\n",
    "bar3 = ax1.bar([i + 2 * bar_width for i in index], df_grouped_eng['Number_of_Franchise'], bar_width, label='Number_of_Franchise', color='r')\n",
    "\n",
    "# Adding labels\n",
    "ax1.set_xlabel('Service_Industry_Code_Name')\n",
    "ax1.set_ylabel('Number_of_Stores')\n",
    "ax1.set_title('Number_of_Stores, Number_of_Similar_Industry, Number_of_Franchise')\n",
    "ax1.set_xticks([i + bar_width for i in index])\n",
    "ax1.set_xticklabels(df_grouped_eng['Service_Industry_Code_Name'], rotation=45, ha='right')\n",
    "\n",
    "# Line plot for Number_of_Opening, Number_of_Closing\n",
    "ax2 = ax1.twinx()\n",
    "ax2.plot(index, df_grouped_eng['Number_of_Opening'], label='Number_of_Opening', color='purple', marker='o')\n",
    "ax2.plot(index, df_grouped_eng['Number_of_Closing'], label='Number_of_Closing', color='orange', marker='x')\n",
    "\n",
    "ax2.set_ylabel('Number Of Opening/Closing Industries')\n",
    "\n",
    "# Combining legends\n",
    "bars = [bar1, bar2, bar3]\n",
    "lines = ax2.get_lines()\n",
    "ax1.legend(bars + lines, [bar.get_label() for bar in bars] + [line.get_label() for line in lines], loc='upper left')"
   ]
  },
  {
   "cell_type": "code",
   "execution_count": 67,
   "metadata": {},
   "outputs": [],
   "source": [
    "# Dictionary for translating Korean to English for column names\n",
    "translation_dict = {\n",
    "    '서비스_업종_코드_명': 'Service_Industry_Code_Name',\n",
    "    '점포_수': 'Number_of_Stores',\n",
    "    '유사_업종_점포_수': 'Number_of_Similar_Industry',\n",
    "    '개업_점포_수': 'Number_of_Opening',\n",
    "    '폐업_점포_수': 'Number_of_Closing',\n",
    "    '프랜차이즈_점포_수': 'Number_of_Franchise'\n",
    "}\n",
    "\n",
    "# Renaming the columns\n",
    "df_grouped_eng = df_grouped.rename(columns=translation_dict)"
   ]
  },
  {
   "cell_type": "code",
   "execution_count": 68,
   "metadata": {},
   "outputs": [
    {
     "data": {
      "text/html": [
       "<div>\n",
       "<style scoped>\n",
       "    .dataframe tbody tr th:only-of-type {\n",
       "        vertical-align: middle;\n",
       "    }\n",
       "\n",
       "    .dataframe tbody tr th {\n",
       "        vertical-align: top;\n",
       "    }\n",
       "\n",
       "    .dataframe thead th {\n",
       "        text-align: right;\n",
       "    }\n",
       "</style>\n",
       "<table border=\"1\" class=\"dataframe\">\n",
       "  <thead>\n",
       "    <tr style=\"text-align: right;\">\n",
       "      <th></th>\n",
       "      <th>Service_Industry_Code_Name</th>\n",
       "      <th>Number_of_Stores</th>\n",
       "      <th>Number_of_Similar_Industry</th>\n",
       "      <th>Number_of_Opening</th>\n",
       "      <th>Number_of_Closing</th>\n",
       "      <th>Number_of_Franchise</th>\n",
       "    </tr>\n",
       "  </thead>\n",
       "  <tbody>\n",
       "    <tr>\n",
       "      <th>0</th>\n",
       "      <td>교육/학원</td>\n",
       "      <td>690742.0</td>\n",
       "      <td>741981.0</td>\n",
       "      <td>26076.0</td>\n",
       "      <td>19500.0</td>\n",
       "      <td>51239.0</td>\n",
       "    </tr>\n",
       "    <tr>\n",
       "      <th>1</th>\n",
       "      <td>미용</td>\n",
       "      <td>567867.0</td>\n",
       "      <td>597968.0</td>\n",
       "      <td>19412.0</td>\n",
       "      <td>13588.0</td>\n",
       "      <td>30101.0</td>\n",
       "    </tr>\n",
       "    <tr>\n",
       "      <th>2</th>\n",
       "      <td>반려동물</td>\n",
       "      <td>60046.0</td>\n",
       "      <td>61245.0</td>\n",
       "      <td>2624.0</td>\n",
       "      <td>1490.0</td>\n",
       "      <td>1199.0</td>\n",
       "    </tr>\n",
       "    <tr>\n",
       "      <th>3</th>\n",
       "      <td>부동산</td>\n",
       "      <td>700747.0</td>\n",
       "      <td>700926.0</td>\n",
       "      <td>13396.0</td>\n",
       "      <td>11443.0</td>\n",
       "      <td>179.0</td>\n",
       "    </tr>\n",
       "    <tr>\n",
       "      <th>4</th>\n",
       "      <td>소매(가구)</td>\n",
       "      <td>262862.0</td>\n",
       "      <td>263166.0</td>\n",
       "      <td>2845.0</td>\n",
       "      <td>2703.0</td>\n",
       "      <td>304.0</td>\n",
       "    </tr>\n",
       "  </tbody>\n",
       "</table>\n",
       "</div>"
      ],
      "text/plain": [
       "  Service_Industry_Code_Name  Number_of_Stores  Number_of_Similar_Industry  \\\n",
       "0                      교육/학원          690742.0                    741981.0   \n",
       "1                         미용          567867.0                    597968.0   \n",
       "2                       반려동물           60046.0                     61245.0   \n",
       "3                        부동산          700747.0                    700926.0   \n",
       "4                     소매(가구)          262862.0                    263166.0   \n",
       "\n",
       "   Number_of_Opening  Number_of_Closing  Number_of_Franchise  \n",
       "0            26076.0            19500.0              51239.0  \n",
       "1            19412.0            13588.0              30101.0  \n",
       "2             2624.0             1490.0               1199.0  \n",
       "3            13396.0            11443.0                179.0  \n",
       "4             2845.0             2703.0                304.0  "
      ]
     },
     "execution_count": 68,
     "metadata": {},
     "output_type": "execute_result"
    }
   ],
   "source": [
    "df_grouped_eng.head()"
   ]
  },
  {
   "cell_type": "code",
   "execution_count": 69,
   "metadata": {},
   "outputs": [
    {
     "name": "stdout",
     "output_type": "stream",
     "text": [
      "  Service_Industry_Code_Name  Number_of_Stores  Number_of_Similar_Industry  \\\n",
      "0          Education/Academy          690742.0                    741981.0   \n",
      "1            Beauty Services          567867.0                    597968.0   \n",
      "2               Pet Services           60046.0                     61245.0   \n",
      "3                Real Estate          700747.0                    700926.0   \n",
      "4         Retail (Furniture)          262862.0                    263166.0   \n",
      "\n",
      "   Number_of_Opening  Number_of_Closing  Number_of_Franchise  \n",
      "0            26076.0            19500.0              51239.0  \n",
      "1            19412.0            13588.0              30101.0  \n",
      "2             2624.0             1490.0               1199.0  \n",
      "3            13396.0            11443.0                179.0  \n",
      "4             2845.0             2703.0                304.0  \n"
     ]
    }
   ],
   "source": [
    "# Dictionary for translating the unique Korean service industry names to English\n",
    "service_translation_dict = {\n",
    "    '소매(전자제품)': 'Retail (Electronics)',\n",
    "    '소매(운송)': 'Retail (Transportation)',\n",
    "    '소매(가구)': 'Retail (Furniture)',\n",
    "    '반려동물': 'Pet Services',\n",
    "    '소매(서적/문구)': 'Retail (Books/Stationery)',\n",
    "    '소매(스포츠)': 'Retail (Sports)',\n",
    "    '소매(미용)': 'Retail (Beauty)',\n",
    "    '소매(의료)': 'Retail (Medical)',\n",
    "    '소매(안경)': 'Retail (Optics)',\n",
    "    '소매(의류)': 'Retail (Clothing)',\n",
    "    '소매(식품)': 'Retail (Food)',\n",
    "    '소매(생활)': 'Retail (Household)',\n",
    "    '교육/학원': 'Education/Academy',\n",
    "    '스포츠/여가': 'Sports/Leisure',\n",
    "    '숙박업': 'Lodging',\n",
    "    '부동산': 'Real Estate',\n",
    "    '전자제품 관련 서비스': 'Electronics Related Services',\n",
    "    '미용': 'Beauty Services',\n",
    "    '차량 관련 서비스': 'Vehicle Related Services',\n",
    "    '필수의료': 'Essential Medical',\n",
    "    '카페 및 베이커리': 'Cafe and Bakery',\n",
    "    '주점': 'Pub',\n",
    "    '식당': 'Restaurant'\n",
    "}\n",
    "\n",
    "# Replace the Korean service industry names with their English translations in the dataframe\n",
    "df_grouped_eng['Service_Industry_Code_Name'] = df_grouped_eng['Service_Industry_Code_Name'].map(service_translation_dict)\n",
    "\n",
    "# Display the updated dataframe\n",
    "print(df_grouped_eng.head())"
   ]
  },
  {
   "cell_type": "code",
   "execution_count": 73,
   "metadata": {},
   "outputs": [
    {
     "data": {
      "application/vnd.plotly.v1+json": {
       "config": {
        "plotlyServerURL": "https://plot.ly"
       },
       "data": [
        {
         "marker": {
          "color": "blue"
         },
         "name": "Number_of_Stores",
         "type": "bar",
         "x": [
          "Education/Academy",
          "Beauty Services",
          "Pet Services",
          "Real Estate",
          "Retail (Furniture)",
          "Retail (Beauty)",
          "Retail (Household)",
          "Retail (Books/Stationery)",
          "Retail (Sports)",
          "Retail (Food)",
          "Retail (Optics)",
          "Retail (Transportation)",
          "Retail (Medical)",
          "Retail (Clothing)",
          "Retail (Electronics)",
          "Lodging",
          "Sports/Leisure",
          "Restaurant",
          "Electronics Related Services",
          "Pub",
          "Vehicle Related Services",
          "Cafe and Bakery",
          "Essential Medical"
         ],
         "y": [
          690742,
          567867,
          60046,
          700747,
          262862,
          382629,
          283094,
          182943,
          84144,
          634788,
          41947,
          97959,
          228990,
          1156487,
          1475238,
          88187,
          349474,
          1924859,
          52199,
          185276,
          129073,
          403048,
          378443
         ]
        },
        {
         "marker": {
          "color": "green"
         },
         "name": "Number_of_Similar_Industry",
         "type": "bar",
         "x": [
          "Education/Academy",
          "Beauty Services",
          "Pet Services",
          "Real Estate",
          "Retail (Furniture)",
          "Retail (Beauty)",
          "Retail (Household)",
          "Retail (Books/Stationery)",
          "Retail (Sports)",
          "Retail (Food)",
          "Retail (Optics)",
          "Retail (Transportation)",
          "Retail (Medical)",
          "Retail (Clothing)",
          "Retail (Electronics)",
          "Lodging",
          "Sports/Leisure",
          "Restaurant",
          "Electronics Related Services",
          "Pub",
          "Vehicle Related Services",
          "Cafe and Bakery",
          "Essential Medical"
         ],
         "y": [
          741981,
          597968,
          61245,
          700926,
          263166,
          409554,
          506891,
          192952,
          84313,
          639533,
          52821,
          98544,
          240136,
          1160515,
          1479221,
          88911,
          360653,
          2271474,
          52199,
          213683,
          137322,
          562493,
          379301
         ]
        },
        {
         "marker": {
          "color": "red"
         },
         "name": "Number_of_Franchise",
         "type": "bar",
         "x": [
          "Education/Academy",
          "Beauty Services",
          "Pet Services",
          "Real Estate",
          "Retail (Furniture)",
          "Retail (Beauty)",
          "Retail (Household)",
          "Retail (Books/Stationery)",
          "Retail (Sports)",
          "Retail (Food)",
          "Retail (Optics)",
          "Retail (Transportation)",
          "Retail (Medical)",
          "Retail (Clothing)",
          "Retail (Electronics)",
          "Lodging",
          "Sports/Leisure",
          "Restaurant",
          "Electronics Related Services",
          "Pub",
          "Vehicle Related Services",
          "Cafe and Bakery",
          "Essential Medical"
         ],
         "y": [
          51239,
          30101,
          1199,
          179,
          304,
          26925,
          223797,
          10009,
          169,
          4745,
          10874,
          585,
          11146,
          4028,
          3983,
          724,
          11179,
          346615,
          0,
          28407,
          8249,
          159445,
          858
         ]
        },
        {
         "marker": {
          "color": "purple"
         },
         "mode": "lines+markers",
         "name": "Number_of_Opening",
         "type": "scatter",
         "x": [
          "Education/Academy",
          "Beauty Services",
          "Pet Services",
          "Real Estate",
          "Retail (Furniture)",
          "Retail (Beauty)",
          "Retail (Household)",
          "Retail (Books/Stationery)",
          "Retail (Sports)",
          "Retail (Food)",
          "Retail (Optics)",
          "Retail (Transportation)",
          "Retail (Medical)",
          "Retail (Clothing)",
          "Retail (Electronics)",
          "Lodging",
          "Sports/Leisure",
          "Restaurant",
          "Electronics Related Services",
          "Pub",
          "Vehicle Related Services",
          "Cafe and Bakery",
          "Essential Medical"
         ],
         "y": [
          26076,
          19412,
          2624,
          13396,
          2845,
          10589,
          16577,
          3324,
          1739,
          14790,
          776,
          1210,
          4800,
          22914,
          59361,
          2840,
          12487,
          92463,
          1339,
          6767,
          2406,
          30047,
          5814
         ]
        },
        {
         "marker": {
          "color": "orange"
         },
         "mode": "lines+markers",
         "name": "Number_of_Closing",
         "type": "scatter",
         "x": [
          "Education/Academy",
          "Beauty Services",
          "Pet Services",
          "Real Estate",
          "Retail (Furniture)",
          "Retail (Beauty)",
          "Retail (Household)",
          "Retail (Books/Stationery)",
          "Retail (Sports)",
          "Retail (Food)",
          "Retail (Optics)",
          "Retail (Transportation)",
          "Retail (Medical)",
          "Retail (Clothing)",
          "Retail (Electronics)",
          "Lodging",
          "Sports/Leisure",
          "Restaurant",
          "Electronics Related Services",
          "Pub",
          "Vehicle Related Services",
          "Cafe and Bakery",
          "Essential Medical"
         ],
         "y": [
          19500,
          13588,
          1490,
          11443,
          2703,
          12040,
          15739,
          3063,
          1460,
          13665,
          843,
          1236,
          3818,
          27699,
          30458,
          3089,
          14266,
          84691,
          656,
          11691,
          2387,
          22330,
          4256
         ]
        }
       ],
       "layout": {
        "barmode": "group",
        "height": 600,
        "legend": {
         "bgcolor": "rgba(255, 255, 255, 0)",
         "bordercolor": "rgba(255, 255, 255, 0)",
         "font": {
          "size": 10
         },
         "x": 0.01,
         "y": 0.99
        },
        "margin": {
         "b": 150,
         "l": 50,
         "r": 50,
         "t": 50
        },
        "template": {
         "data": {
          "bar": [
           {
            "error_x": {
             "color": "#2a3f5f"
            },
            "error_y": {
             "color": "#2a3f5f"
            },
            "marker": {
             "line": {
              "color": "#E5ECF6",
              "width": 0.5
             },
             "pattern": {
              "fillmode": "overlay",
              "size": 10,
              "solidity": 0.2
             }
            },
            "type": "bar"
           }
          ],
          "barpolar": [
           {
            "marker": {
             "line": {
              "color": "#E5ECF6",
              "width": 0.5
             },
             "pattern": {
              "fillmode": "overlay",
              "size": 10,
              "solidity": 0.2
             }
            },
            "type": "barpolar"
           }
          ],
          "carpet": [
           {
            "aaxis": {
             "endlinecolor": "#2a3f5f",
             "gridcolor": "white",
             "linecolor": "white",
             "minorgridcolor": "white",
             "startlinecolor": "#2a3f5f"
            },
            "baxis": {
             "endlinecolor": "#2a3f5f",
             "gridcolor": "white",
             "linecolor": "white",
             "minorgridcolor": "white",
             "startlinecolor": "#2a3f5f"
            },
            "type": "carpet"
           }
          ],
          "choropleth": [
           {
            "colorbar": {
             "outlinewidth": 0,
             "ticks": ""
            },
            "type": "choropleth"
           }
          ],
          "contour": [
           {
            "colorbar": {
             "outlinewidth": 0,
             "ticks": ""
            },
            "colorscale": [
             [
              0,
              "#0d0887"
             ],
             [
              0.1111111111111111,
              "#46039f"
             ],
             [
              0.2222222222222222,
              "#7201a8"
             ],
             [
              0.3333333333333333,
              "#9c179e"
             ],
             [
              0.4444444444444444,
              "#bd3786"
             ],
             [
              0.5555555555555556,
              "#d8576b"
             ],
             [
              0.6666666666666666,
              "#ed7953"
             ],
             [
              0.7777777777777778,
              "#fb9f3a"
             ],
             [
              0.8888888888888888,
              "#fdca26"
             ],
             [
              1,
              "#f0f921"
             ]
            ],
            "type": "contour"
           }
          ],
          "contourcarpet": [
           {
            "colorbar": {
             "outlinewidth": 0,
             "ticks": ""
            },
            "type": "contourcarpet"
           }
          ],
          "heatmap": [
           {
            "colorbar": {
             "outlinewidth": 0,
             "ticks": ""
            },
            "colorscale": [
             [
              0,
              "#0d0887"
             ],
             [
              0.1111111111111111,
              "#46039f"
             ],
             [
              0.2222222222222222,
              "#7201a8"
             ],
             [
              0.3333333333333333,
              "#9c179e"
             ],
             [
              0.4444444444444444,
              "#bd3786"
             ],
             [
              0.5555555555555556,
              "#d8576b"
             ],
             [
              0.6666666666666666,
              "#ed7953"
             ],
             [
              0.7777777777777778,
              "#fb9f3a"
             ],
             [
              0.8888888888888888,
              "#fdca26"
             ],
             [
              1,
              "#f0f921"
             ]
            ],
            "type": "heatmap"
           }
          ],
          "heatmapgl": [
           {
            "colorbar": {
             "outlinewidth": 0,
             "ticks": ""
            },
            "colorscale": [
             [
              0,
              "#0d0887"
             ],
             [
              0.1111111111111111,
              "#46039f"
             ],
             [
              0.2222222222222222,
              "#7201a8"
             ],
             [
              0.3333333333333333,
              "#9c179e"
             ],
             [
              0.4444444444444444,
              "#bd3786"
             ],
             [
              0.5555555555555556,
              "#d8576b"
             ],
             [
              0.6666666666666666,
              "#ed7953"
             ],
             [
              0.7777777777777778,
              "#fb9f3a"
             ],
             [
              0.8888888888888888,
              "#fdca26"
             ],
             [
              1,
              "#f0f921"
             ]
            ],
            "type": "heatmapgl"
           }
          ],
          "histogram": [
           {
            "marker": {
             "pattern": {
              "fillmode": "overlay",
              "size": 10,
              "solidity": 0.2
             }
            },
            "type": "histogram"
           }
          ],
          "histogram2d": [
           {
            "colorbar": {
             "outlinewidth": 0,
             "ticks": ""
            },
            "colorscale": [
             [
              0,
              "#0d0887"
             ],
             [
              0.1111111111111111,
              "#46039f"
             ],
             [
              0.2222222222222222,
              "#7201a8"
             ],
             [
              0.3333333333333333,
              "#9c179e"
             ],
             [
              0.4444444444444444,
              "#bd3786"
             ],
             [
              0.5555555555555556,
              "#d8576b"
             ],
             [
              0.6666666666666666,
              "#ed7953"
             ],
             [
              0.7777777777777778,
              "#fb9f3a"
             ],
             [
              0.8888888888888888,
              "#fdca26"
             ],
             [
              1,
              "#f0f921"
             ]
            ],
            "type": "histogram2d"
           }
          ],
          "histogram2dcontour": [
           {
            "colorbar": {
             "outlinewidth": 0,
             "ticks": ""
            },
            "colorscale": [
             [
              0,
              "#0d0887"
             ],
             [
              0.1111111111111111,
              "#46039f"
             ],
             [
              0.2222222222222222,
              "#7201a8"
             ],
             [
              0.3333333333333333,
              "#9c179e"
             ],
             [
              0.4444444444444444,
              "#bd3786"
             ],
             [
              0.5555555555555556,
              "#d8576b"
             ],
             [
              0.6666666666666666,
              "#ed7953"
             ],
             [
              0.7777777777777778,
              "#fb9f3a"
             ],
             [
              0.8888888888888888,
              "#fdca26"
             ],
             [
              1,
              "#f0f921"
             ]
            ],
            "type": "histogram2dcontour"
           }
          ],
          "mesh3d": [
           {
            "colorbar": {
             "outlinewidth": 0,
             "ticks": ""
            },
            "type": "mesh3d"
           }
          ],
          "parcoords": [
           {
            "line": {
             "colorbar": {
              "outlinewidth": 0,
              "ticks": ""
             }
            },
            "type": "parcoords"
           }
          ],
          "pie": [
           {
            "automargin": true,
            "type": "pie"
           }
          ],
          "scatter": [
           {
            "fillpattern": {
             "fillmode": "overlay",
             "size": 10,
             "solidity": 0.2
            },
            "type": "scatter"
           }
          ],
          "scatter3d": [
           {
            "line": {
             "colorbar": {
              "outlinewidth": 0,
              "ticks": ""
             }
            },
            "marker": {
             "colorbar": {
              "outlinewidth": 0,
              "ticks": ""
             }
            },
            "type": "scatter3d"
           }
          ],
          "scattercarpet": [
           {
            "marker": {
             "colorbar": {
              "outlinewidth": 0,
              "ticks": ""
             }
            },
            "type": "scattercarpet"
           }
          ],
          "scattergeo": [
           {
            "marker": {
             "colorbar": {
              "outlinewidth": 0,
              "ticks": ""
             }
            },
            "type": "scattergeo"
           }
          ],
          "scattergl": [
           {
            "marker": {
             "colorbar": {
              "outlinewidth": 0,
              "ticks": ""
             }
            },
            "type": "scattergl"
           }
          ],
          "scattermapbox": [
           {
            "marker": {
             "colorbar": {
              "outlinewidth": 0,
              "ticks": ""
             }
            },
            "type": "scattermapbox"
           }
          ],
          "scatterpolar": [
           {
            "marker": {
             "colorbar": {
              "outlinewidth": 0,
              "ticks": ""
             }
            },
            "type": "scatterpolar"
           }
          ],
          "scatterpolargl": [
           {
            "marker": {
             "colorbar": {
              "outlinewidth": 0,
              "ticks": ""
             }
            },
            "type": "scatterpolargl"
           }
          ],
          "scatterternary": [
           {
            "marker": {
             "colorbar": {
              "outlinewidth": 0,
              "ticks": ""
             }
            },
            "type": "scatterternary"
           }
          ],
          "surface": [
           {
            "colorbar": {
             "outlinewidth": 0,
             "ticks": ""
            },
            "colorscale": [
             [
              0,
              "#0d0887"
             ],
             [
              0.1111111111111111,
              "#46039f"
             ],
             [
              0.2222222222222222,
              "#7201a8"
             ],
             [
              0.3333333333333333,
              "#9c179e"
             ],
             [
              0.4444444444444444,
              "#bd3786"
             ],
             [
              0.5555555555555556,
              "#d8576b"
             ],
             [
              0.6666666666666666,
              "#ed7953"
             ],
             [
              0.7777777777777778,
              "#fb9f3a"
             ],
             [
              0.8888888888888888,
              "#fdca26"
             ],
             [
              1,
              "#f0f921"
             ]
            ],
            "type": "surface"
           }
          ],
          "table": [
           {
            "cells": {
             "fill": {
              "color": "#EBF0F8"
             },
             "line": {
              "color": "white"
             }
            },
            "header": {
             "fill": {
              "color": "#C8D4E3"
             },
             "line": {
              "color": "white"
             }
            },
            "type": "table"
           }
          ]
         },
         "layout": {
          "annotationdefaults": {
           "arrowcolor": "#2a3f5f",
           "arrowhead": 0,
           "arrowwidth": 1
          },
          "autotypenumbers": "strict",
          "coloraxis": {
           "colorbar": {
            "outlinewidth": 0,
            "ticks": ""
           }
          },
          "colorscale": {
           "diverging": [
            [
             0,
             "#8e0152"
            ],
            [
             0.1,
             "#c51b7d"
            ],
            [
             0.2,
             "#de77ae"
            ],
            [
             0.3,
             "#f1b6da"
            ],
            [
             0.4,
             "#fde0ef"
            ],
            [
             0.5,
             "#f7f7f7"
            ],
            [
             0.6,
             "#e6f5d0"
            ],
            [
             0.7,
             "#b8e186"
            ],
            [
             0.8,
             "#7fbc41"
            ],
            [
             0.9,
             "#4d9221"
            ],
            [
             1,
             "#276419"
            ]
           ],
           "sequential": [
            [
             0,
             "#0d0887"
            ],
            [
             0.1111111111111111,
             "#46039f"
            ],
            [
             0.2222222222222222,
             "#7201a8"
            ],
            [
             0.3333333333333333,
             "#9c179e"
            ],
            [
             0.4444444444444444,
             "#bd3786"
            ],
            [
             0.5555555555555556,
             "#d8576b"
            ],
            [
             0.6666666666666666,
             "#ed7953"
            ],
            [
             0.7777777777777778,
             "#fb9f3a"
            ],
            [
             0.8888888888888888,
             "#fdca26"
            ],
            [
             1,
             "#f0f921"
            ]
           ],
           "sequentialminus": [
            [
             0,
             "#0d0887"
            ],
            [
             0.1111111111111111,
             "#46039f"
            ],
            [
             0.2222222222222222,
             "#7201a8"
            ],
            [
             0.3333333333333333,
             "#9c179e"
            ],
            [
             0.4444444444444444,
             "#bd3786"
            ],
            [
             0.5555555555555556,
             "#d8576b"
            ],
            [
             0.6666666666666666,
             "#ed7953"
            ],
            [
             0.7777777777777778,
             "#fb9f3a"
            ],
            [
             0.8888888888888888,
             "#fdca26"
            ],
            [
             1,
             "#f0f921"
            ]
           ]
          },
          "colorway": [
           "#636efa",
           "#EF553B",
           "#00cc96",
           "#ab63fa",
           "#FFA15A",
           "#19d3f3",
           "#FF6692",
           "#B6E880",
           "#FF97FF",
           "#FECB52"
          ],
          "font": {
           "color": "#2a3f5f"
          },
          "geo": {
           "bgcolor": "white",
           "lakecolor": "white",
           "landcolor": "#E5ECF6",
           "showlakes": true,
           "showland": true,
           "subunitcolor": "white"
          },
          "hoverlabel": {
           "align": "left"
          },
          "hovermode": "closest",
          "mapbox": {
           "style": "light"
          },
          "paper_bgcolor": "white",
          "plot_bgcolor": "#E5ECF6",
          "polar": {
           "angularaxis": {
            "gridcolor": "white",
            "linecolor": "white",
            "ticks": ""
           },
           "bgcolor": "#E5ECF6",
           "radialaxis": {
            "gridcolor": "white",
            "linecolor": "white",
            "ticks": ""
           }
          },
          "scene": {
           "xaxis": {
            "backgroundcolor": "#E5ECF6",
            "gridcolor": "white",
            "gridwidth": 2,
            "linecolor": "white",
            "showbackground": true,
            "ticks": "",
            "zerolinecolor": "white"
           },
           "yaxis": {
            "backgroundcolor": "#E5ECF6",
            "gridcolor": "white",
            "gridwidth": 2,
            "linecolor": "white",
            "showbackground": true,
            "ticks": "",
            "zerolinecolor": "white"
           },
           "zaxis": {
            "backgroundcolor": "#E5ECF6",
            "gridcolor": "white",
            "gridwidth": 2,
            "linecolor": "white",
            "showbackground": true,
            "ticks": "",
            "zerolinecolor": "white"
           }
          },
          "shapedefaults": {
           "line": {
            "color": "#2a3f5f"
           }
          },
          "ternary": {
           "aaxis": {
            "gridcolor": "white",
            "linecolor": "white",
            "ticks": ""
           },
           "baxis": {
            "gridcolor": "white",
            "linecolor": "white",
            "ticks": ""
           },
           "bgcolor": "#E5ECF6",
           "caxis": {
            "gridcolor": "white",
            "linecolor": "white",
            "ticks": ""
           }
          },
          "title": {
           "x": 0.05
          },
          "xaxis": {
           "automargin": true,
           "gridcolor": "white",
           "linecolor": "white",
           "ticks": "",
           "title": {
            "standoff": 15
           },
           "zerolinecolor": "white",
           "zerolinewidth": 2
          },
          "yaxis": {
           "automargin": true,
           "gridcolor": "white",
           "linecolor": "white",
           "ticks": "",
           "title": {
            "standoff": 15
           },
           "zerolinecolor": "white",
           "zerolinewidth": 2
          }
         }
        },
        "title": {
         "text": "Number of Stores, Similar Industry, Franchise, Opening, and Closing"
        },
        "width": 1000,
        "xaxis": {
         "tickangle": 45,
         "tickfont": {
          "size": 10
         },
         "title": {
          "text": "Service Industry Code Name"
         }
        },
        "yaxis": {
         "title": {
          "text": "Number of Stores"
         }
        },
        "yaxis2": {
         "overlaying": "y",
         "side": "right",
         "title": {
          "text": "Number of Opening/Closing"
         }
        }
       }
      }
     },
     "metadata": {},
     "output_type": "display_data"
    }
   ],
   "source": [
    "import pandas as pd\n",
    "import folium\n",
    "import plotly.graph_objs as go\n",
    "from plotly.offline import plot\n",
    "\n",
    "# Plotly chart creation\n",
    "trace1 = go.Bar(\n",
    "    x=df_grouped_eng['Service_Industry_Code_Name'],\n",
    "    y=df_grouped_eng['Number_of_Stores'],\n",
    "    name='Number_of_Stores',\n",
    "    marker=dict(color='blue')\n",
    ")\n",
    "\n",
    "trace2 = go.Bar(\n",
    "    x=df_grouped_eng['Service_Industry_Code_Name'],\n",
    "    y=df_grouped_eng['Number_of_Similar_Industry'],\n",
    "    name='Number_of_Similar_Industry',\n",
    "    marker=dict(color='green')\n",
    ")\n",
    "\n",
    "trace3 = go.Bar(\n",
    "    x=df_grouped_eng['Service_Industry_Code_Name'],\n",
    "    y=df_grouped_eng['Number_of_Franchise'],\n",
    "    name='Number_of_Franchise',\n",
    "    marker=dict(color='red')\n",
    ")\n",
    "\n",
    "trace4 = go.Scatter(\n",
    "    x=df_grouped_eng['Service_Industry_Code_Name'],\n",
    "    y=df_grouped_eng['Number_of_Opening'],\n",
    "    mode='lines+markers',\n",
    "    name='Number_of_Opening',\n",
    "    marker=dict(color='purple')\n",
    ")\n",
    "\n",
    "trace5 = go.Scatter(\n",
    "    x=df_grouped_eng['Service_Industry_Code_Name'],\n",
    "    y=df_grouped_eng['Number_of_Closing'],\n",
    "    mode='lines+markers',\n",
    "    name='Number_of_Closing',\n",
    "    marker=dict(color='orange')\n",
    ")\n",
    "\n",
    "data = [trace1, trace2, trace3, trace4, trace5]\n",
    "\n",
    "layout = go.Layout(\n",
    "    barmode='group',\n",
    "    title='Number of Stores, Similar Industry, Franchise, Opening, and Closing',\n",
    "    xaxis=dict(title='Service Industry Code Name', tickangle=45, tickfont=dict(size=10)),\n",
    "    yaxis=dict(title='Number of Stores'),\n",
    "    yaxis2=dict(title='Number of Opening/Closing', overlaying='y', side='right'),\n",
    "    legend=dict(\n",
    "        x=0.01,\n",
    "        y=0.99,\n",
    "        bgcolor='rgba(255, 255, 255, 0)',\n",
    "        bordercolor='rgba(255, 255, 255, 0)',\n",
    "        font=dict(size=10)\n",
    "    ),\n",
    "    margin=dict(l=50, r=50, t=50, b=150),\n",
    "    width=1000,\n",
    "    height=600\n",
    ")\n",
    "\n",
    "fig = go.Figure(data=data, layout=layout)\n",
    "fig"
   ]
  },
  {
   "cell_type": "code",
   "execution_count": 94,
   "metadata": {},
   "outputs": [
    {
     "data": {
      "text/html": [
       "<div>\n",
       "<style scoped>\n",
       "    .dataframe tbody tr th:only-of-type {\n",
       "        vertical-align: middle;\n",
       "    }\n",
       "\n",
       "    .dataframe tbody tr th {\n",
       "        vertical-align: top;\n",
       "    }\n",
       "\n",
       "    .dataframe thead th {\n",
       "        text-align: right;\n",
       "    }\n",
       "</style>\n",
       "<table border=\"1\" class=\"dataframe\">\n",
       "  <thead>\n",
       "    <tr style=\"text-align: right;\">\n",
       "      <th></th>\n",
       "      <th>기준_년분기_코드</th>\n",
       "      <th>자치구_코드</th>\n",
       "      <th>자치구_코드_명</th>\n",
       "      <th>서비스_업종_코드</th>\n",
       "      <th>서비스_업종_코드_명</th>\n",
       "      <th>당월_매출_금액</th>\n",
       "      <th>당월_매출_건수</th>\n",
       "      <th>주중_매출_금액</th>\n",
       "      <th>주말_매출_금액</th>\n",
       "      <th>월요일_매출_금액</th>\n",
       "      <th>...</th>\n",
       "      <th>연령대_40_매출_건수</th>\n",
       "      <th>연령대_50_매출_건수</th>\n",
       "      <th>연령대_60_이상_매출_건수</th>\n",
       "      <th>점포_수</th>\n",
       "      <th>유사_업종_점포_수</th>\n",
       "      <th>개업_율</th>\n",
       "      <th>개업_점포_수</th>\n",
       "      <th>폐업_률</th>\n",
       "      <th>폐업_점포_수</th>\n",
       "      <th>프랜차이즈_점포_수</th>\n",
       "    </tr>\n",
       "  </thead>\n",
       "  <tbody>\n",
       "    <tr>\n",
       "      <th>0</th>\n",
       "      <td>20191</td>\n",
       "      <td>11110</td>\n",
       "      <td>종로구</td>\n",
       "      <td>CS100004</td>\n",
       "      <td>식당</td>\n",
       "      <td>21733503173</td>\n",
       "      <td>586239</td>\n",
       "      <td>15141392928</td>\n",
       "      <td>6592110245</td>\n",
       "      <td>2473306312</td>\n",
       "      <td>...</td>\n",
       "      <td>90539</td>\n",
       "      <td>62719</td>\n",
       "      <td>22943</td>\n",
       "      <td>468</td>\n",
       "      <td>516</td>\n",
       "      <td>4.7</td>\n",
       "      <td>24</td>\n",
       "      <td>3.5</td>\n",
       "      <td>18</td>\n",
       "      <td>48</td>\n",
       "    </tr>\n",
       "    <tr>\n",
       "      <th>1</th>\n",
       "      <td>20191</td>\n",
       "      <td>11110</td>\n",
       "      <td>종로구</td>\n",
       "      <td>CS100007</td>\n",
       "      <td>식당</td>\n",
       "      <td>3247811505</td>\n",
       "      <td>111086</td>\n",
       "      <td>2414124197</td>\n",
       "      <td>833687308</td>\n",
       "      <td>387818146</td>\n",
       "      <td>...</td>\n",
       "      <td>20359</td>\n",
       "      <td>16465</td>\n",
       "      <td>5826</td>\n",
       "      <td>49</td>\n",
       "      <td>142</td>\n",
       "      <td>4.2</td>\n",
       "      <td>6</td>\n",
       "      <td>4.9</td>\n",
       "      <td>7</td>\n",
       "      <td>93</td>\n",
       "    </tr>\n",
       "    <tr>\n",
       "      <th>2</th>\n",
       "      <td>20191</td>\n",
       "      <td>11110</td>\n",
       "      <td>종로구</td>\n",
       "      <td>CS200006</td>\n",
       "      <td>필수의료</td>\n",
       "      <td>14993800118</td>\n",
       "      <td>538455</td>\n",
       "      <td>13153901584</td>\n",
       "      <td>1839898534</td>\n",
       "      <td>2847348305</td>\n",
       "      <td>...</td>\n",
       "      <td>124040</td>\n",
       "      <td>115864</td>\n",
       "      <td>100169</td>\n",
       "      <td>179</td>\n",
       "      <td>179</td>\n",
       "      <td>3.9</td>\n",
       "      <td>7</td>\n",
       "      <td>3.4</td>\n",
       "      <td>6</td>\n",
       "      <td>0</td>\n",
       "    </tr>\n",
       "  </tbody>\n",
       "</table>\n",
       "<p>3 rows × 60 columns</p>\n",
       "</div>"
      ],
      "text/plain": [
       "   기준_년분기_코드  자치구_코드 자치구_코드_명 서비스_업종_코드 서비스_업종_코드_명     당월_매출_금액  당월_매출_건수  \\\n",
       "0      20191   11110      종로구  CS100004          식당  21733503173    586239   \n",
       "1      20191   11110      종로구  CS100007          식당   3247811505    111086   \n",
       "2      20191   11110      종로구  CS200006        필수의료  14993800118    538455   \n",
       "\n",
       "      주중_매출_금액    주말_매출_금액   월요일_매출_금액  ...  연령대_40_매출_건수  연령대_50_매출_건수  \\\n",
       "0  15141392928  6592110245  2473306312  ...         90539         62719   \n",
       "1   2414124197   833687308   387818146  ...         20359         16465   \n",
       "2  13153901584  1839898534  2847348305  ...        124040        115864   \n",
       "\n",
       "   연령대_60_이상_매출_건수  점포_수  유사_업종_점포_수  개업_율  개업_점포_수  폐업_률  폐업_점포_수  프랜차이즈_점포_수  \n",
       "0            22943   468         516   4.7       24   3.5       18          48  \n",
       "1             5826    49         142   4.2        6   4.9        7          93  \n",
       "2           100169   179         179   3.9        7   3.4        6           0  \n",
       "\n",
       "[3 rows x 60 columns]"
      ]
     },
     "execution_count": 94,
     "metadata": {},
     "output_type": "execute_result"
    }
   ],
   "source": [
    "df = pd.read_csv('df_sum.csv')\n",
    "df.head(3)"
   ]
  },
  {
   "cell_type": "code",
   "execution_count": 99,
   "metadata": {},
   "outputs": [
    {
     "data": {
      "text/html": [
       "<div>\n",
       "<style scoped>\n",
       "    .dataframe tbody tr th:only-of-type {\n",
       "        vertical-align: middle;\n",
       "    }\n",
       "\n",
       "    .dataframe tbody tr th {\n",
       "        vertical-align: top;\n",
       "    }\n",
       "\n",
       "    .dataframe thead th {\n",
       "        text-align: right;\n",
       "    }\n",
       "</style>\n",
       "<table border=\"1\" class=\"dataframe\">\n",
       "  <thead>\n",
       "    <tr style=\"text-align: right;\">\n",
       "      <th></th>\n",
       "      <th>기준_년분기_코드</th>\n",
       "      <th>서비스_업종_코드_명</th>\n",
       "      <th>당월_매출_금액</th>\n",
       "      <th>폐업_점포_수</th>\n",
       "    </tr>\n",
       "  </thead>\n",
       "  <tbody>\n",
       "    <tr>\n",
       "      <th>0</th>\n",
       "      <td>20191</td>\n",
       "      <td>식당</td>\n",
       "      <td>21733503173</td>\n",
       "      <td>18</td>\n",
       "    </tr>\n",
       "    <tr>\n",
       "      <th>1</th>\n",
       "      <td>20191</td>\n",
       "      <td>식당</td>\n",
       "      <td>3247811505</td>\n",
       "      <td>7</td>\n",
       "    </tr>\n",
       "    <tr>\n",
       "      <th>2</th>\n",
       "      <td>20191</td>\n",
       "      <td>필수의료</td>\n",
       "      <td>14993800118</td>\n",
       "      <td>6</td>\n",
       "    </tr>\n",
       "    <tr>\n",
       "      <th>3</th>\n",
       "      <td>20191</td>\n",
       "      <td>소매(의료)</td>\n",
       "      <td>33876865110</td>\n",
       "      <td>3</td>\n",
       "    </tr>\n",
       "    <tr>\n",
       "      <th>4</th>\n",
       "      <td>20191</td>\n",
       "      <td>소매(의료)</td>\n",
       "      <td>9397765181</td>\n",
       "      <td>1</td>\n",
       "    </tr>\n",
       "    <tr>\n",
       "      <th>...</th>\n",
       "      <td>...</td>\n",
       "      <td>...</td>\n",
       "      <td>...</td>\n",
       "      <td>...</td>\n",
       "    </tr>\n",
       "    <tr>\n",
       "      <th>29225</th>\n",
       "      <td>20241</td>\n",
       "      <td>소매(식품)</td>\n",
       "      <td>2751818273</td>\n",
       "      <td>4</td>\n",
       "    </tr>\n",
       "    <tr>\n",
       "      <th>29226</th>\n",
       "      <td>20241</td>\n",
       "      <td>소매(식품)</td>\n",
       "      <td>21093427651</td>\n",
       "      <td>6</td>\n",
       "    </tr>\n",
       "    <tr>\n",
       "      <th>29227</th>\n",
       "      <td>20241</td>\n",
       "      <td>소매(의류)</td>\n",
       "      <td>33713831412</td>\n",
       "      <td>27</td>\n",
       "    </tr>\n",
       "    <tr>\n",
       "      <th>29228</th>\n",
       "      <td>20241</td>\n",
       "      <td>반려동물</td>\n",
       "      <td>570271711</td>\n",
       "      <td>4</td>\n",
       "    </tr>\n",
       "    <tr>\n",
       "      <th>29229</th>\n",
       "      <td>20241</td>\n",
       "      <td>소매(전자제품)</td>\n",
       "      <td>648869319</td>\n",
       "      <td>117</td>\n",
       "    </tr>\n",
       "  </tbody>\n",
       "</table>\n",
       "<p>29230 rows × 4 columns</p>\n",
       "</div>"
      ],
      "text/plain": [
       "       기준_년분기_코드 서비스_업종_코드_명     당월_매출_금액  폐업_점포_수\n",
       "0          20191          식당  21733503173       18\n",
       "1          20191          식당   3247811505        7\n",
       "2          20191        필수의료  14993800118        6\n",
       "3          20191      소매(의료)  33876865110        3\n",
       "4          20191      소매(의료)   9397765181        1\n",
       "...          ...         ...          ...      ...\n",
       "29225      20241      소매(식품)   2751818273        4\n",
       "29226      20241      소매(식품)  21093427651        6\n",
       "29227      20241      소매(의류)  33713831412       27\n",
       "29228      20241        반려동물    570271711        4\n",
       "29229      20241    소매(전자제품)    648869319      117\n",
       "\n",
       "[29230 rows x 4 columns]"
      ]
     },
     "execution_count": 99,
     "metadata": {},
     "output_type": "execute_result"
    }
   ],
   "source": [
    "#필요한 컬럼만 가져오기\n",
    "df = df[['기준_년분기_코드','서비스_업종_코드_명','당월_매출_금액','폐업_점포_수']]\n",
    "df"
   ]
  },
  {
   "cell_type": "markdown",
   "metadata": {},
   "source": [
    "### 업종별 매출 금액의 분기별 평균\n",
    "- \"당월 매출 금액\" 이라고 되어있으나, 분기별 합산값이다!"
   ]
  },
  {
   "cell_type": "code",
   "execution_count": 106,
   "metadata": {},
   "outputs": [
    {
     "data": {
      "text/html": [
       "<div>\n",
       "<style scoped>\n",
       "    .dataframe tbody tr th:only-of-type {\n",
       "        vertical-align: middle;\n",
       "    }\n",
       "\n",
       "    .dataframe tbody tr th {\n",
       "        vertical-align: top;\n",
       "    }\n",
       "\n",
       "    .dataframe thead th {\n",
       "        text-align: right;\n",
       "    }\n",
       "</style>\n",
       "<table border=\"1\" class=\"dataframe\">\n",
       "  <thead>\n",
       "    <tr style=\"text-align: right;\">\n",
       "      <th></th>\n",
       "      <th>서비스_업종_코드_명</th>\n",
       "      <th>기준_년분기_코드</th>\n",
       "      <th>당월_매출_금액</th>\n",
       "      <th>폐업_점포_수</th>\n",
       "    </tr>\n",
       "  </thead>\n",
       "  <tbody>\n",
       "    <tr>\n",
       "      <th>0</th>\n",
       "      <td>교육/학원</td>\n",
       "      <td>20191</td>\n",
       "      <td>6.961408e+09</td>\n",
       "      <td>11.730000</td>\n",
       "    </tr>\n",
       "    <tr>\n",
       "      <th>1</th>\n",
       "      <td>교육/학원</td>\n",
       "      <td>20192</td>\n",
       "      <td>6.838103e+09</td>\n",
       "      <td>9.600000</td>\n",
       "    </tr>\n",
       "    <tr>\n",
       "      <th>2</th>\n",
       "      <td>교육/학원</td>\n",
       "      <td>20193</td>\n",
       "      <td>7.511329e+09</td>\n",
       "      <td>9.000000</td>\n",
       "    </tr>\n",
       "    <tr>\n",
       "      <th>3</th>\n",
       "      <td>교육/학원</td>\n",
       "      <td>20194</td>\n",
       "      <td>7.280392e+09</td>\n",
       "      <td>8.620000</td>\n",
       "    </tr>\n",
       "    <tr>\n",
       "      <th>4</th>\n",
       "      <td>교육/학원</td>\n",
       "      <td>20201</td>\n",
       "      <td>6.231288e+09</td>\n",
       "      <td>12.010000</td>\n",
       "    </tr>\n",
       "    <tr>\n",
       "      <th>...</th>\n",
       "      <td>...</td>\n",
       "      <td>...</td>\n",
       "      <td>...</td>\n",
       "      <td>...</td>\n",
       "    </tr>\n",
       "    <tr>\n",
       "      <th>478</th>\n",
       "      <td>필수의료</td>\n",
       "      <td>20231</td>\n",
       "      <td>3.503683e+10</td>\n",
       "      <td>2.746667</td>\n",
       "    </tr>\n",
       "    <tr>\n",
       "      <th>479</th>\n",
       "      <td>필수의료</td>\n",
       "      <td>20232</td>\n",
       "      <td>3.522553e+10</td>\n",
       "      <td>2.453333</td>\n",
       "    </tr>\n",
       "    <tr>\n",
       "      <th>480</th>\n",
       "      <td>필수의료</td>\n",
       "      <td>20233</td>\n",
       "      <td>3.486816e+10</td>\n",
       "      <td>2.266667</td>\n",
       "    </tr>\n",
       "    <tr>\n",
       "      <th>481</th>\n",
       "      <td>필수의료</td>\n",
       "      <td>20234</td>\n",
       "      <td>3.683656e+10</td>\n",
       "      <td>2.213333</td>\n",
       "    </tr>\n",
       "    <tr>\n",
       "      <th>482</th>\n",
       "      <td>필수의료</td>\n",
       "      <td>20241</td>\n",
       "      <td>3.646766e+10</td>\n",
       "      <td>2.920000</td>\n",
       "    </tr>\n",
       "  </tbody>\n",
       "</table>\n",
       "<p>483 rows × 4 columns</p>\n",
       "</div>"
      ],
      "text/plain": [
       "    서비스_업종_코드_명  기준_년분기_코드      당월_매출_금액    폐업_점포_수\n",
       "0         교육/학원      20191  6.961408e+09  11.730000\n",
       "1         교육/학원      20192  6.838103e+09   9.600000\n",
       "2         교육/학원      20193  7.511329e+09   9.000000\n",
       "3         교육/학원      20194  7.280392e+09   8.620000\n",
       "4         교육/학원      20201  6.231288e+09  12.010000\n",
       "..          ...        ...           ...        ...\n",
       "478        필수의료      20231  3.503683e+10   2.746667\n",
       "479        필수의료      20232  3.522553e+10   2.453333\n",
       "480        필수의료      20233  3.486816e+10   2.266667\n",
       "481        필수의료      20234  3.683656e+10   2.213333\n",
       "482        필수의료      20241  3.646766e+10   2.920000\n",
       "\n",
       "[483 rows x 4 columns]"
      ]
     },
     "execution_count": 106,
     "metadata": {},
     "output_type": "execute_result"
    }
   ],
   "source": [
    "industry_earned_mean = df.groupby(['서비스_업종_코드_명', '기준_년분기_코드']).agg({\n",
    "    '당월_매출_금액': 'mean',\n",
    "    '폐업_점포_수': 'mean'\n",
    "}).reset_index()\n",
    "industry_earned_mean"
   ]
  },
  {
   "cell_type": "code",
   "execution_count": 104,
   "metadata": {},
   "outputs": [],
   "source": [
    "industry_earned_mean.to_csv('industry_earned_mean.csv', index =False)"
   ]
  },
  {
   "cell_type": "code",
   "execution_count": 108,
   "metadata": {},
   "outputs": [
    {
     "data": {
      "text/plain": [
       "21"
      ]
     },
     "execution_count": 108,
     "metadata": {},
     "output_type": "execute_result"
    }
   ],
   "source": [
    "len(industry_earned_mean['기준_년분기_코드'].unique())"
   ]
  },
  {
   "cell_type": "code",
   "execution_count": null,
   "metadata": {},
   "outputs": [],
   "source": []
  }
 ],
 "metadata": {
  "kernelspec": {
   "display_name": "Python 3",
   "language": "python",
   "name": "python3"
  },
  "language_info": {
   "codemirror_mode": {
    "name": "ipython",
    "version": 3
   },
   "file_extension": ".py",
   "mimetype": "text/x-python",
   "name": "python",
   "nbconvert_exporter": "python",
   "pygments_lexer": "ipython3",
   "version": "3.11.1"
  }
 },
 "nbformat": 4,
 "nbformat_minor": 2
}
