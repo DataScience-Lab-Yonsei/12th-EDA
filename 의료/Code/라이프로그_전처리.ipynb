{
 "cells": [
  {
   "cell_type": "code",
   "execution_count": 1,
   "metadata": {},
   "outputs": [],
   "source": [
    "import pandas as pd \n",
    "import numpy as np"
   ]
  },
  {
   "cell_type": "code",
   "execution_count": 2,
   "metadata": {},
   "outputs": [],
   "source": [
    "activity = pd.read_csv('/content/drive/MyDrive/EDA의료/128.치매 고위험군 라이프로그/01.데이터/1.Training/원천데이터/1.걸음걸이/train_activity.csv')\n",
    "activity_label = pd.read_csv('/content/drive/MyDrive/EDA의료/128.치매 고위험군 라이프로그/01.데이터/1.Training/원천데이터/1.걸음걸이/training_label.csv')\n",
    "\n",
    "\n",
    "activity_test = pd.read_csv(\"/content/drive/MyDrive/EDA의료/128.치매 고위험군 라이프로그/01.데이터/2.Validation/원천데이터/1.걸음걸이/val_activity.csv\")\n",
    "activity_test_label = pd.read_csv(\"/content/drive/MyDrive/EDA의료/128.치매 고위험군 라이프로그/01.데이터/2.Validation/원천데이터/1.걸음걸이/val_label.csv\")"
   ]
  },
  {
   "cell_type": "code",
   "execution_count": 3,
   "metadata": {},
   "outputs": [],
   "source": [
    "def preprocessing(train,label):\n",
    "    \n",
    "    drop_cols = train.describe(include = 'O').columns[1:]\n",
    "    train = train.drop(drop_cols,axis = 1)\n",
    "    data = train.groupby('EMAIL').mean().reset_index()\n",
    "    labeling = dict(np.array(label))\n",
    "\n",
    "    data['target'] = data['EMAIL'].map(labeling)\n",
    "    \n",
    "    \n",
    "    return data"
   ]
  },
  {
   "cell_type": "code",
   "execution_count": 4,
   "metadata": {},
   "outputs": [],
   "source": [
    "activity_train = preprocessing(activity, activity_label)\n",
    "activity_test = preprocessing(activity_test,activity_test_label)"
   ]
  },
  {
   "cell_type": "code",
   "execution_count": 5,
   "metadata": {},
   "outputs": [],
   "source": [
    "sleep_train = pd.read_csv(\"/content/drive/MyDrive/EDA의료/128.치매 고위험군 라이프로그/01.데이터/1.Training/원천데이터/2.수면/train_sleep.csv\")\n",
    "sleep_train_label = pd.read_csv(\"/content/drive/MyDrive/EDA의료/128.치매 고위험군 라이프로그/01.데이터/1.Training/원천데이터/2.수면/training_label.csv\")\n",
    "\n",
    "sleep_test = pd.read_csv(\"/content/drive/MyDrive/EDA의료/128.치매 고위험군 라이프로그/01.데이터/2.Validation/원천데이터/2.수면/val_sleep.csv\")\n",
    "sleep_test_label = pd.read_csv(\"/content/drive/MyDrive/EDA의료/128.치매 고위험군 라이프로그/01.데이터/2.Validation/원천데이터/2.수면/val_label.csv\")"
   ]
  },
  {
   "cell_type": "code",
   "execution_count": 6,
   "metadata": {},
   "outputs": [],
   "source": [
    "sleep_train = preprocessing(sleep_train,sleep_train_label)\n",
    "sleep_test = preprocessing(sleep_test,sleep_test_label)"
   ]
  },
  {
   "cell_type": "code",
   "execution_count": 7,
   "metadata": {},
   "outputs": [],
   "source": [
    "def merge(data_1,data_2):\n",
    "    \n",
    "    \n",
    "    target = data_1['target']\n",
    "    \n",
    "    data_1 = data_1.drop('target',axis = 1)\n",
    "    data_2 = data_2.drop('target',axis = 1)\n",
    "    \n",
    "    merge_data = pd.merge(data_1,data_2)\n",
    "    \n",
    "    merge_data['target'] = target\n",
    "\n",
    "    return merge_data    "
   ]
  },
  {
   "cell_type": "code",
   "execution_count": 8,
   "metadata": {},
   "outputs": [],
   "source": [
    "train = merge(activity_train,sleep_train)\n",
    "test = merge(activity_test,sleep_test)"
   ]
  },
  {
   "cell_type": "code",
   "execution_count": 9,
   "metadata": {},
   "outputs": [],
   "source": [
    "train.to_csv('train.csv',index = False)\n",
    "test.to_csv('test.csv',index = False)"
   ]
  }
 ],
 "metadata": {
  "kernelspec": {
   "display_name": "base",
   "language": "python",
   "name": "python3"
  },
  "language_info": {
   "codemirror_mode": {
    "name": "ipython",
    "version": 3
   },
   "file_extension": ".py",
   "mimetype": "text/x-python",
   "name": "python",
   "nbconvert_exporter": "python",
   "pygments_lexer": "ipython3",
   "version": "3.9.13"
  },
  "orig_nbformat": 4
 },
 "nbformat": 4,
 "nbformat_minor": 2
}
