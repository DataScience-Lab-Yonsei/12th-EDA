{
 "cells": [
  {
   "cell_type": "code",
   "execution_count": 1,
   "metadata": {},
   "outputs": [],
   "source": [
    "import pandas as pd\n",
    "import pygwalker as pyg\n",
    "from matplotlib import pyplot as plt\n",
    "import re"
   ]
  },
  {
   "cell_type": "code",
   "execution_count": 2,
   "metadata": {},
   "outputs": [],
   "source": [
    "# df2019_2022 = pd.read_csv('2019-2022_elder_diseace_all.csv',encoding='utf-8')\n",
    "# # columns_to_keep = ['2019','2019.1','2020','2020.1','2021','2021.1','2022','2022.1']\n",
    "# # df2019_2022 = df2019_2022[columns_to_keep]\n",
    "# # columns_to_convert2019_2022 = ['2019.1','2020.1','2021.1','2022.1']\n",
    "# # df2019_2022[columns_to_convert2019_2022] = df2019_2022[columns_to_convert2019_2022].apply(pd.to_numeric, errors='coerce').astype('Int64')\n",
    "# pyg.walk(df2019_2022)"
   ]
  },
  {
   "cell_type": "code",
   "execution_count": 3,
   "metadata": {},
   "outputs": [
    {
     "data": {
      "application/vnd.jupyter.widget-view+json": {
       "model_id": "af8116b2f6ee4f0bbce108701721bb3f",
       "version_major": 2,
       "version_minor": 0
      },
      "text/plain": [
       "Box(children=(HTML(value='\\n<div id=\"ifr-pyg-00061e5d8368ca007nZUKxh8ISrMTsJW\" style=\"height: auto\">\\n    <hea…"
      ]
     },
     "metadata": {},
     "output_type": "display_data"
    },
    {
     "data": {
      "text/html": [],
      "text/plain": [
       "<IPython.core.display.HTML object>"
      ]
     },
     "metadata": {},
     "output_type": "display_data"
    },
    {
     "data": {
      "text/plain": [
       "<pygwalker.api.pygwalker.PygWalker at 0x12a98dc2250>"
      ]
     },
     "execution_count": 3,
     "metadata": {},
     "output_type": "execute_result"
    }
   ],
   "source": [
    "# 读取 CSV 文件\n",
    "df = pd.read_csv('2019-2022_elder_diseace_all.csv', encoding='utf-8')\n",
    "\n",
    "# 创建一个空列表来存储结果\n",
    "result_list = []\n",
    "\n",
    "# 遍历年份\n",
    "for year in ['2019', '2020', '2021', '2022']:\n",
    "    diseases = df[year]\n",
    "    counts = df[f'{year}.1']\n",
    "    \n",
    "    # 创建当年的 DataFrame\n",
    "    year_df = pd.DataFrame({'Disease': diseases, 'Count': counts})\n",
    "    \n",
    "    # 删除无效行\n",
    "    year_df = year_df.dropna()\n",
    "    \n",
    "    # 将 Count 转换为数值类型\n",
    "    year_df['Count'] = pd.to_numeric(year_df['Count'], errors='coerce')\n",
    "    \n",
    "    # 排序并选择前 10 名\n",
    "    top_10 = year_df.sort_values('Count', ascending=False).head(10)\n",
    "    \n",
    "    # 添加年份列\n",
    "    top_10['Year'] = year\n",
    "    \n",
    "    # 将结果添加到列表\n",
    "    result_list.append(top_10)\n",
    "\n",
    "# 合并所有年份的结果\n",
    "result = pd.concat(result_list, ignore_index=True)\n",
    "\n",
    "# 重新排列列的顺序\n",
    "result = result[['Year', 'Disease', 'Count']]\n",
    "\n",
    "# 显示结果\n",
    "pyg.walk(result)"
   ]
  },
  {
   "cell_type": "code",
   "execution_count": 4,
   "metadata": {},
   "outputs": [
    {
     "data": {
      "application/vnd.jupyter.widget-view+json": {
       "model_id": "2e17da3f649d4f77a484fdf8579392e2",
       "version_major": 2,
       "version_minor": 0
      },
      "text/plain": [
       "Box(children=(HTML(value='\\n<div id=\"ifr-pyg-00061e5d837b113bgcx07qXOs61MGKkD\" style=\"height: auto\">\\n    <hea…"
      ]
     },
     "metadata": {},
     "output_type": "display_data"
    },
    {
     "data": {
      "text/html": [],
      "text/plain": [
       "<IPython.core.display.HTML object>"
      ]
     },
     "metadata": {},
     "output_type": "display_data"
    },
    {
     "data": {
      "text/plain": [
       "<pygwalker.api.pygwalker.PygWalker at 0x12a98e4cad0>"
      ]
     },
     "execution_count": 4,
     "metadata": {},
     "output_type": "execute_result"
    }
   ],
   "source": [
    "# 读取 CSV 文件\n",
    "df = pd.read_csv('2019-2022_elder_diseace_all_dementia.csv', encoding='utf-8')\n",
    "# df = df.drop(columns=['U07_U07의응급사용'])\n",
    "\n",
    "# 创建一个空列表来存储结果\n",
    "result_list = []\n",
    "\n",
    "# 遍历年份\n",
    "for year in ['2019', '2020', '2021', '2022']:\n",
    "    diseases = df[year]\n",
    "    counts = df[f'{year}.1']\n",
    "    \n",
    "    # 创建当年的 DataFrame\n",
    "    year_df = pd.DataFrame({'Disease': diseases, 'Count': counts})\n",
    "    \n",
    "    # 删除无效行\n",
    "    year_df = year_df.dropna()\n",
    "    \n",
    "    # 将 Count 转换为数值类型\n",
    "    year_df['Count'] = pd.to_numeric(year_df['Count'], errors='coerce')\n",
    "    \n",
    "    # 排序并选择前 10 名\n",
    "    top_10 = year_df.sort_values('Count', ascending=False).head(10)\n",
    "    \n",
    "    # 添加年份列\n",
    "    top_10['Year'] = year\n",
    "    \n",
    "    # 将结果添加到列表\n",
    "    result_list.append(top_10)\n",
    "\n",
    "# 合并所有年份的结果\n",
    "result = pd.concat(result_list, ignore_index=True)\n",
    "\n",
    "# 重新排列列的顺序\n",
    "result = result[['Year', 'Disease', 'Count']]\n",
    "\n",
    "# 显示结果\n",
    "pyg.walk(result)"
   ]
  },
  {
   "cell_type": "code",
   "execution_count": 5,
   "metadata": {},
   "outputs": [
    {
     "data": {
      "application/vnd.jupyter.widget-view+json": {
       "model_id": "b603c1693e7f455c89c2acc2686c982b",
       "version_major": 2,
       "version_minor": 0
      },
      "text/plain": [
       "Box(children=(HTML(value='\\n<div id=\"ifr-pyg-00061e5d838a47d2vuOqRyNH2FXng4Vk\" style=\"height: auto\">\\n    <hea…"
      ]
     },
     "metadata": {},
     "output_type": "display_data"
    },
    {
     "data": {
      "text/html": [],
      "text/plain": [
       "<IPython.core.display.HTML object>"
      ]
     },
     "metadata": {},
     "output_type": "display_data"
    },
    {
     "data": {
      "text/plain": [
       "<pygwalker.api.pygwalker.PygWalker at 0x12a99054850>"
      ]
     },
     "execution_count": 5,
     "metadata": {},
     "output_type": "execute_result"
    }
   ],
   "source": [
    "df2018 = pd.read_csv('2018_elder_diseace_all.csv',encoding='utf-8')\n",
    "columns_to_convert2018 = ['2018']\n",
    "df2018[columns_to_convert2018] = df2018[columns_to_convert2018].apply(pd.to_numeric, errors='coerce').astype('Int64')\n",
    "pyg.walk(df2018)"
   ]
  }
 ],
 "metadata": {
  "kernelspec": {
   "display_name": "base",
   "language": "python",
   "name": "python3"
  },
  "language_info": {
   "codemirror_mode": {
    "name": "ipython",
    "version": 3
   },
   "file_extension": ".py",
   "mimetype": "text/x-python",
   "name": "python",
   "nbconvert_exporter": "python",
   "pygments_lexer": "ipython3",
   "version": "3.11.9"
  }
 },
 "nbformat": 4,
 "nbformat_minor": 2
}
