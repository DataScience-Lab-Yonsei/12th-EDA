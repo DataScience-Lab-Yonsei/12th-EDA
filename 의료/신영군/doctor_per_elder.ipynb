{
 "cells": [
  {
   "cell_type": "code",
   "execution_count": 85,
   "metadata": {},
   "outputs": [],
   "source": [
    "import pandas as pd\n",
    "import pygwalker as pyg\n",
    "from matplotlib import pyplot as plt"
   ]
  },
  {
   "cell_type": "code",
   "execution_count": 86,
   "metadata": {},
   "outputs": [
    {
     "data": {
      "application/vnd.jupyter.widget-view+json": {
       "model_id": "bc3500dd4a684bd29cbaf4ba279f0e7d",
       "version_major": 2,
       "version_minor": 0
      },
      "text/plain": [
       "Box(children=(HTML(value='\\n<div id=\"ifr-pyg-00061e5d48674266DxtsNMjfq4QenV9J\" style=\"height: auto\">\\n    <hea…"
      ]
     },
     "metadata": {},
     "output_type": "display_data"
    },
    {
     "data": {
      "text/html": [],
      "text/plain": [
       "<IPython.core.display.HTML object>"
      ]
     },
     "metadata": {},
     "output_type": "display_data"
    },
    {
     "data": {
      "text/plain": [
       "<pygwalker.api.pygwalker.PygWalker at 0x10a351d26d0>"
      ]
     },
     "execution_count": 86,
     "metadata": {},
     "output_type": "execute_result"
    }
   ],
   "source": [
    "#read the data and show the original doctor data\n",
    "doctor_data = pd.read_csv('output.csv',encoding='utf-8')\n",
    "elder_data = pd.read_csv('regional_elder.csv',encoding='utf-8')\n",
    "pyg.walk(doctor_data)"
   ]
  },
  {
   "cell_type": "code",
   "execution_count": 87,
   "metadata": {},
   "outputs": [],
   "source": [
    "#doctor data preprocessing, delete 2024 and synchronize the column index with the elder data\n",
    "doctor_data = doctor_data.drop(columns=['2024.1/4'])\n"
   ]
  },
  {
   "cell_type": "code",
   "execution_count": 88,
   "metadata": {},
   "outputs": [
    {
     "data": {
      "application/vnd.jupyter.widget-view+json": {
       "model_id": "28ff455057c64de798b03bbfd72107cf",
       "version_major": 2,
       "version_minor": 0
      },
      "text/plain": [
       "Box(children=(HTML(value='\\n<div id=\"ifr-pyg-00061e5d487fb6e3Ur8imKDGxqfd0pzO\" style=\"height: auto\">\\n    <hea…"
      ]
     },
     "metadata": {},
     "output_type": "display_data"
    },
    {
     "data": {
      "text/html": [],
      "text/plain": [
       "<IPython.core.display.HTML object>"
      ]
     },
     "metadata": {},
     "output_type": "display_data"
    },
    {
     "data": {
      "text/plain": [
       "<pygwalker.api.pygwalker.PygWalker at 0x10a25646650>"
      ]
     },
     "execution_count": 88,
     "metadata": {},
     "output_type": "execute_result"
    }
   ],
   "source": [
    "#original elder data\n",
    "pyg.walk(elder_data)"
   ]
  },
  {
   "cell_type": "code",
   "execution_count": 89,
   "metadata": {},
   "outputs": [
    {
     "data": {
      "application/vnd.jupyter.widget-view+json": {
       "model_id": "7393d7b5c0974801887452d92972c613",
       "version_major": 2,
       "version_minor": 0
      },
      "text/plain": [
       "Box(children=(HTML(value='\\n<div id=\"ifr-pyg-00061e5d489d8a6doYcFyA4l8DwrOS1f\" style=\"height: auto\">\\n    <hea…"
      ]
     },
     "metadata": {},
     "output_type": "display_data"
    },
    {
     "data": {
      "text/html": [],
      "text/plain": [
       "<IPython.core.display.HTML object>"
      ]
     },
     "metadata": {},
     "output_type": "display_data"
    },
    {
     "data": {
      "text/plain": [
       "<pygwalker.api.pygwalker.PygWalker at 0x10a25686310>"
      ]
     },
     "execution_count": 89,
     "metadata": {},
     "output_type": "execute_result"
    }
   ],
   "source": [
    "#only save the regional info, and only save the data collected elders who older than 60 ages\n",
    "column_to_save = ['행정구역별(시군구)','2020','2021','2022','2023']\n",
    "elder_data = elder_data[column_to_save]\n",
    "\n",
    "#delete the 행정구역별(시군구),읍부,면부,동부\n",
    "rows_to_drop = [0,2,3,4] \n",
    "elder_data = elder_data.drop(index=rows_to_drop)\n",
    "\n",
    "# 将字符串转换为整数\n",
    "for col in elder_data.columns[1:]:  # 忽略第一列 '행정구역별(시군구)'\n",
    "    elder_data[col] = elder_data[col].astype(int)\n",
    "\n",
    "pyg.walk(elder_data)"
   ]
  },
  {
   "cell_type": "code",
   "execution_count": 90,
   "metadata": {},
   "outputs": [
    {
     "name": "stdout",
     "output_type": "stream",
     "text": [
      "Index([1, 5, 6, 7, 8, 9, 10, 11, 12, 13, 14, 15, 16, 17, 18, 19, 20, 21], dtype='int64')\n",
      "RangeIndex(start=0, stop=18, step=1)\n"
     ]
    }
   ],
   "source": [
    "#confirm the index of 2 different dataset, and confirm the shape of the data\n",
    "elder_data.shape\n",
    "print(elder_data.index)\n",
    "print(doctor_data.index)"
   ]
  },
  {
   "cell_type": "code",
   "execution_count": 91,
   "metadata": {},
   "outputs": [],
   "source": [
    "#mapping dictionary\n",
    "number_to_location = {\n",
    "    0: '전국',\n",
    "    1: '서울특별시',\n",
    "    2: '부산광역시',\n",
    "    3: '대구광역시',\n",
    "    4: '인천광역시',\n",
    "    5: '광주광역시',\n",
    "    6: '대전광역시',\n",
    "    7: '울산광역시',\n",
    "    8: '세종특별자치시',\n",
    "    9: '경기도',\n",
    "    10: '강원특별자치도',\n",
    "    11: '충청북도',\n",
    "    12: '충청남도',\n",
    "    13: '전라북도',\n",
    "    14: '전라남도',\n",
    "    15: '경상북도',\n",
    "    16: '경상남도',\n",
    "    17: '제주특별자치도'\n",
    "}\n"
   ]
  },
  {
   "cell_type": "code",
   "execution_count": 92,
   "metadata": {},
   "outputs": [
    {
     "name": "stdout",
     "output_type": "stream",
     "text": [
      "\n",
      "doctor data with location names as index:\n",
      "Index(['전국', '서울특별시', '부산광역시', '대구광역시', '인천광역시', '광주광역시', '대전광역시', '울산광역시',\n",
      "       '세종특별자치시', '경기도', '강원특별자치도', '충청북도', '충청남도', '전라북도', '전라남도', '경상북도',\n",
      "       '경상남도', '제주특별자치도'],\n",
      "      dtype='object')\n",
      "\n",
      "elder data with location names as index:\n",
      "Index(['전국', '서울특별시', '부산광역시', '대구광역시', '인천광역시', '광주광역시', '대전광역시', '울산광역시',\n",
      "       '세종특별자치시', '경기도', '강원특별자치도', '충청북도', '충청남도', '전라북도', '전라남도', '경상북도',\n",
      "       '경상남도', '제주특별자치도'],\n",
      "      dtype='object', name='행정구역별(시군구)')\n",
      "[ True  True  True  True  True  True  True  True  True  True  True  True\n",
      "  True  True  True  True  True  True]\n"
     ]
    }
   ],
   "source": [
    "#now set the 1st column of elder dataset as the index, and synthesize the doctor dataset same as the elder dataset\n",
    "#change column index of doctor df\n",
    "doctor_data.columns = ['2020', '2021','2022','2023']\n",
    "#change doctor data index from digits to the location\n",
    "doctor_data.index = doctor_data.index.map(number_to_location)\n",
    "\n",
    "#change the elder data 1st column into index\n",
    "elder_data.set_index('행정구역별(시군구)', inplace=True)\n",
    "# 打印转换后的 DataFrame\n",
    "print(\"\\ndoctor data with location names as index:\")\n",
    "print(doctor_data.index)\n",
    "print(\"\\nelder data with location names as index:\")\n",
    "print(elder_data.index)\n",
    "print(doctor_data.index==elder_data.index)"
   ]
  },
  {
   "cell_type": "code",
   "execution_count": 98,
   "metadata": {},
   "outputs": [
    {
     "name": "stdout",
     "output_type": "stream",
     "text": [
      "doctor_data=           2020    2021    2022    2023\n",
      "전국       248635  255715  261238  267572\n",
      "서울특별시     62934   64309   65523   67079\n",
      "부산광역시     18745   19107   19473   20030\n",
      "대구광역시     13606   14060   14425   14742\n",
      "인천광역시     12516   13066   13311   13984\n",
      "광주광역시      8944    9064    9145    9348\n",
      "대전광역시      8624    8768    8856    8927\n",
      "울산광역시      4340    4436    4536    4638\n",
      "세종특별자치시     910    1149    1228    1287\n",
      "경기도       53292   55550   57760   60093\n",
      "강원특별자치도    6122    6366    6525    6450\n",
      "충청북도       6543    6622    6769    6798\n",
      "충청남도       8251    8370    8420    8511\n",
      "전라북도       9186    9383    9445    9560\n",
      "전라남도       8261    8431    8549    8504\n",
      "경상북도       9536    9645    9721    9797\n",
      "경상남도      13949   14427   14563   14758\n",
      "제주특별자치도    2876    2962    2989    3066\n",
      "elder_data=                2020      2021      2022      2023\n",
      "행정구역별(시군구)                                        \n",
      "전국          11623264  12265601  12809657  13319909\n",
      "서울특별시        2124510   2206571   2279066   2349553\n",
      "부산광역시         892277    934024    965387    997993\n",
      "대구광역시         559877    588586    612655    648930\n",
      "인천광역시         597761    638855    678410    716472\n",
      "광주광역시         290547    306710    319736    333100\n",
      "대전광역시         299964    317839    332117    345208\n",
      "울산광역시         218134    234361    248451    262243\n",
      "세종특별자치시        48720     53464     57387     59947\n",
      "경기도          2529512   2715536   2872546   3023061\n",
      "강원특별자치도       431276    454353    474360    490299\n",
      "충청북도          390720    415112    434829    449877\n",
      "충청남도          527371    555770    580382    600308\n",
      "전라북도          492736    513394    530632    546441\n",
      "전라남도          537046    557592    574325    591190\n",
      "경상북도          749388    785640    814516    828098\n",
      "경상남도          790629    838066    878048    913452\n",
      "제주특별자치도       142796    149728    156810    163737\n"
     ]
    }
   ],
   "source": [
    "print(f'{doctor_data=}\\n{elder_data=}')"
   ]
  },
  {
   "cell_type": "code",
   "execution_count": 103,
   "metadata": {},
   "outputs": [
    {
     "data": {
      "application/vnd.jupyter.widget-view+json": {
       "model_id": "32029f493a56495f818db768252af31d",
       "version_major": 2,
       "version_minor": 0
      },
      "text/plain": [
       "Box(children=(HTML(value='\\n<div id=\"ifr-pyg-00061e5d5b913b97OFDQUqzlw49dJLEe\" style=\"height: auto\">\\n    <hea…"
      ]
     },
     "metadata": {},
     "output_type": "display_data"
    },
    {
     "data": {
      "text/html": [],
      "text/plain": [
       "<IPython.core.display.HTML object>"
      ]
     },
     "metadata": {},
     "output_type": "display_data"
    },
    {
     "data": {
      "text/plain": [
       "<pygwalker.api.pygwalker.PygWalker at 0x10a255d91d0>"
      ]
     },
     "execution_count": 103,
     "metadata": {},
     "output_type": "execute_result"
    }
   ],
   "source": [
    "assert doctor_data.shape == elder_data.shape, \"DataFrames must have the same shape\"\n",
    "\n",
    "# 清洗和计算数据\n",
    "def clean_and_divide(df1, df2):\n",
    "    # 创建结果 DataFrame 的副本\n",
    "    result = df1.copy()\n",
    "    \n",
    "    # 处理每一列\n",
    "    for column in df1.columns:\n",
    "        result[column] = df1[column] / df2[column].replace(0, pd.NA)\n",
    "    \n",
    "    return result\n",
    "\n",
    "# 使用函数计算\n",
    "result = clean_and_divide(elder_data, doctor_data)\n",
    "\n",
    "# 将索引转移到 DataFrame 的第一列\n",
    "result = result.reset_index()\n",
    "result = result.rename(columns={'index': 'First_Column'})\n",
    "\n",
    "pyg.walk(result)"
   ]
  }
 ],
 "metadata": {
  "kernelspec": {
   "display_name": "base",
   "language": "python",
   "name": "python3"
  },
  "language_info": {
   "codemirror_mode": {
    "name": "ipython",
    "version": 3
   },
   "file_extension": ".py",
   "mimetype": "text/x-python",
   "name": "python",
   "nbconvert_exporter": "python",
   "pygments_lexer": "ipython3",
   "version": "3.11.9"
  }
 },
 "nbformat": 4,
 "nbformat_minor": 2
}
