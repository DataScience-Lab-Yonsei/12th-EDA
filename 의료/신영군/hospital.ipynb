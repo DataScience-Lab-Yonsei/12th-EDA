{
 "cells": [
  {
   "cell_type": "code",
   "execution_count": 91,
   "metadata": {},
   "outputs": [],
   "source": [
    "import pandas as pd\n",
    "import pygwalker as pyg\n",
    "from matplotlib import pyplot as plt"
   ]
  },
  {
   "cell_type": "markdown",
   "metadata": {},
   "source": [
    "数据读取"
   ]
  },
  {
   "cell_type": "code",
   "execution_count": 92,
   "metadata": {},
   "outputs": [],
   "source": [
    "staff_data = pd.read_csv('output.csv',encoding='utf-8')\n",
    "hospitals_data = pd.read_csv('hospital.csv',encoding='EUC-KR')\n",
    "elder_data = pd.read_csv('regional_elder.csv',encoding='utf-8')"
   ]
  },
  {
   "cell_type": "code",
   "execution_count": 93,
   "metadata": {},
   "outputs": [],
   "source": [
    "#modify those fucking column names\n",
    "def modify_column_name(col):\n",
    "    return col.split('.')[0]"
   ]
  },
  {
   "cell_type": "markdown",
   "metadata": {},
   "source": [
    "hospital data preprocessing and renaming the column names"
   ]
  },
  {
   "cell_type": "code",
   "execution_count": 94,
   "metadata": {},
   "outputs": [
    {
     "data": {
      "application/vnd.jupyter.widget-view+json": {
       "model_id": "7ebf4148708a4ff29adc6e05f52427e3",
       "version_major": 2,
       "version_minor": 0
      },
      "text/plain": [
       "Box(children=(HTML(value='\\n<div id=\"ifr-pyg-00061e9ca681d6417xgW4S3iZ2NDenQ5\" style=\"height: auto\">\\n    <hea…"
      ]
     },
     "metadata": {},
     "output_type": "display_data"
    },
    {
     "data": {
      "text/html": [],
      "text/plain": [
       "<IPython.core.display.HTML object>"
      ]
     },
     "metadata": {},
     "output_type": "display_data"
    },
    {
     "data": {
      "text/plain": [
       "<pygwalker.api.pygwalker.PygWalker at 0x25b651e2c50>"
      ]
     },
     "execution_count": 94,
     "metadata": {},
     "output_type": "execute_result"
    }
   ],
   "source": [
    "hospital_columns_to_save = ['시도별(1)','2020.1/4','2021.1/4','2022.1/4','2023.1/4']\n",
    "hospitals_data =hospitals_data[~hospitals_data['시도별(1)'].str.contains('시도별')]\n",
    "hospitals_data =hospitals_data[hospital_columns_to_save]\n",
    "columns_to_convert = ['2020.1/4', '2021.1/4', '2022.1/4','2023.1/4']\n",
    "def remove_commas_and_convert(value):\n",
    "    try:\n",
    "        # 移除逗号并转换为整数\n",
    "        return int(value.replace(',', ''))\n",
    "    except ValueError:\n",
    "        # 如果转换失败，返回 NaN\n",
    "        return pd.NA\n",
    "\n",
    "# 应用转换函数\n",
    "columns_to_convert = ['2020.1/4', '2021.1/4', '2022.1/4', '2023.1/4']\n",
    "for column in columns_to_convert:\n",
    "    hospitals_data[column] = hospitals_data[column].apply(remove_commas_and_convert)\n",
    "\n",
    "#将数据第一列搞成index\n",
    "# hospitals_data.set_index(hospitals_data.columns[0], inplace=True)\n",
    "pyg.walk(hospitals_data)\n"
   ]
  },
  {
   "cell_type": "code",
   "execution_count": 95,
   "metadata": {},
   "outputs": [
    {
     "data": {
      "text/plain": [
       "(18, 5)"
      ]
     },
     "execution_count": 95,
     "metadata": {},
     "output_type": "execute_result"
    }
   ],
   "source": [
    "staff_data.shape"
   ]
  },
  {
   "cell_type": "code",
   "execution_count": 96,
   "metadata": {},
   "outputs": [
    {
     "ename": "KeyError",
     "evalue": "'2024.1/4'",
     "output_type": "error",
     "traceback": [
      "\u001b[1;31m---------------------------------------------------------------------------\u001b[0m",
      "\u001b[1;31mKeyError\u001b[0m                                  Traceback (most recent call last)",
      "File \u001b[1;32md:\\anaconda\\Lib\\site-packages\\pandas\\core\\indexes\\base.py:3805\u001b[0m, in \u001b[0;36mIndex.get_loc\u001b[1;34m(self, key)\u001b[0m\n\u001b[0;32m   3804\u001b[0m \u001b[38;5;28;01mtry\u001b[39;00m:\n\u001b[1;32m-> 3805\u001b[0m     \u001b[38;5;28;01mreturn\u001b[39;00m \u001b[38;5;28;43mself\u001b[39;49m\u001b[38;5;241;43m.\u001b[39;49m\u001b[43m_engine\u001b[49m\u001b[38;5;241;43m.\u001b[39;49m\u001b[43mget_loc\u001b[49m\u001b[43m(\u001b[49m\u001b[43mcasted_key\u001b[49m\u001b[43m)\u001b[49m\n\u001b[0;32m   3806\u001b[0m \u001b[38;5;28;01mexcept\u001b[39;00m \u001b[38;5;167;01mKeyError\u001b[39;00m \u001b[38;5;28;01mas\u001b[39;00m err:\n",
      "File \u001b[1;32mindex.pyx:167\u001b[0m, in \u001b[0;36mpandas._libs.index.IndexEngine.get_loc\u001b[1;34m()\u001b[0m\n",
      "File \u001b[1;32mindex.pyx:196\u001b[0m, in \u001b[0;36mpandas._libs.index.IndexEngine.get_loc\u001b[1;34m()\u001b[0m\n",
      "File \u001b[1;32mpandas\\\\_libs\\\\hashtable_class_helper.pxi:7081\u001b[0m, in \u001b[0;36mpandas._libs.hashtable.PyObjectHashTable.get_item\u001b[1;34m()\u001b[0m\n",
      "File \u001b[1;32mpandas\\\\_libs\\\\hashtable_class_helper.pxi:7089\u001b[0m, in \u001b[0;36mpandas._libs.hashtable.PyObjectHashTable.get_item\u001b[1;34m()\u001b[0m\n",
      "\u001b[1;31mKeyError\u001b[0m: '2024.1/4'",
      "\nThe above exception was the direct cause of the following exception:\n",
      "\u001b[1;31mKeyError\u001b[0m                                  Traceback (most recent call last)",
      "Cell \u001b[1;32mIn[96], line 28\u001b[0m\n\u001b[0;32m     25\u001b[0m     \u001b[38;5;28;01mreturn\u001b[39;00m result\n\u001b[0;32m     27\u001b[0m \u001b[38;5;66;03m# 使用函数计算\u001b[39;00m\n\u001b[1;32m---> 28\u001b[0m result \u001b[38;5;241m=\u001b[39m \u001b[43mclean_and_divide\u001b[49m\u001b[43m(\u001b[49m\u001b[43mstaff_data\u001b[49m\u001b[43m,\u001b[49m\u001b[43m \u001b[49m\u001b[43mhospitals_data\u001b[49m\u001b[43m)\u001b[49m\n\u001b[0;32m     30\u001b[0m \u001b[38;5;66;03m# 将索引转移到 DataFrame 的第一列\u001b[39;00m\n\u001b[0;32m     31\u001b[0m result \u001b[38;5;241m=\u001b[39m result\u001b[38;5;241m.\u001b[39mreset_index()\n",
      "Cell \u001b[1;32mIn[96], line 15\u001b[0m, in \u001b[0;36mclean_and_divide\u001b[1;34m(df1, df2)\u001b[0m\n\u001b[0;32m     12\u001b[0m \u001b[38;5;28;01mfor\u001b[39;00m column \u001b[38;5;129;01min\u001b[39;00m numeric_columns:\n\u001b[0;32m     13\u001b[0m     \u001b[38;5;66;03m# 将列转换为字符串类型\u001b[39;00m\n\u001b[0;32m     14\u001b[0m     df1[column] \u001b[38;5;241m=\u001b[39m df1[column]\u001b[38;5;241m.\u001b[39mastype(\u001b[38;5;28mstr\u001b[39m)\n\u001b[1;32m---> 15\u001b[0m     df2[column] \u001b[38;5;241m=\u001b[39m \u001b[43mdf2\u001b[49m\u001b[43m[\u001b[49m\u001b[43mcolumn\u001b[49m\u001b[43m]\u001b[49m\u001b[38;5;241m.\u001b[39mastype(\u001b[38;5;28mstr\u001b[39m)\n\u001b[0;32m     17\u001b[0m     \u001b[38;5;66;03m# 将逗号移除并转换为数值，无法转换的值变为 NaN\u001b[39;00m\n\u001b[0;32m     18\u001b[0m     df1[column] \u001b[38;5;241m=\u001b[39m pd\u001b[38;5;241m.\u001b[39mto_numeric(df1[column]\u001b[38;5;241m.\u001b[39mstr\u001b[38;5;241m.\u001b[39mreplace(\u001b[38;5;124m'\u001b[39m\u001b[38;5;124m,\u001b[39m\u001b[38;5;124m'\u001b[39m, \u001b[38;5;124m'\u001b[39m\u001b[38;5;124m'\u001b[39m), errors\u001b[38;5;241m=\u001b[39m\u001b[38;5;124m'\u001b[39m\u001b[38;5;124mcoerce\u001b[39m\u001b[38;5;124m'\u001b[39m)\n",
      "File \u001b[1;32md:\\anaconda\\Lib\\site-packages\\pandas\\core\\frame.py:4102\u001b[0m, in \u001b[0;36mDataFrame.__getitem__\u001b[1;34m(self, key)\u001b[0m\n\u001b[0;32m   4100\u001b[0m \u001b[38;5;28;01mif\u001b[39;00m \u001b[38;5;28mself\u001b[39m\u001b[38;5;241m.\u001b[39mcolumns\u001b[38;5;241m.\u001b[39mnlevels \u001b[38;5;241m>\u001b[39m \u001b[38;5;241m1\u001b[39m:\n\u001b[0;32m   4101\u001b[0m     \u001b[38;5;28;01mreturn\u001b[39;00m \u001b[38;5;28mself\u001b[39m\u001b[38;5;241m.\u001b[39m_getitem_multilevel(key)\n\u001b[1;32m-> 4102\u001b[0m indexer \u001b[38;5;241m=\u001b[39m \u001b[38;5;28;43mself\u001b[39;49m\u001b[38;5;241;43m.\u001b[39;49m\u001b[43mcolumns\u001b[49m\u001b[38;5;241;43m.\u001b[39;49m\u001b[43mget_loc\u001b[49m\u001b[43m(\u001b[49m\u001b[43mkey\u001b[49m\u001b[43m)\u001b[49m\n\u001b[0;32m   4103\u001b[0m \u001b[38;5;28;01mif\u001b[39;00m is_integer(indexer):\n\u001b[0;32m   4104\u001b[0m     indexer \u001b[38;5;241m=\u001b[39m [indexer]\n",
      "File \u001b[1;32md:\\anaconda\\Lib\\site-packages\\pandas\\core\\indexes\\base.py:3812\u001b[0m, in \u001b[0;36mIndex.get_loc\u001b[1;34m(self, key)\u001b[0m\n\u001b[0;32m   3807\u001b[0m     \u001b[38;5;28;01mif\u001b[39;00m \u001b[38;5;28misinstance\u001b[39m(casted_key, \u001b[38;5;28mslice\u001b[39m) \u001b[38;5;129;01mor\u001b[39;00m (\n\u001b[0;32m   3808\u001b[0m         \u001b[38;5;28misinstance\u001b[39m(casted_key, abc\u001b[38;5;241m.\u001b[39mIterable)\n\u001b[0;32m   3809\u001b[0m         \u001b[38;5;129;01mand\u001b[39;00m \u001b[38;5;28many\u001b[39m(\u001b[38;5;28misinstance\u001b[39m(x, \u001b[38;5;28mslice\u001b[39m) \u001b[38;5;28;01mfor\u001b[39;00m x \u001b[38;5;129;01min\u001b[39;00m casted_key)\n\u001b[0;32m   3810\u001b[0m     ):\n\u001b[0;32m   3811\u001b[0m         \u001b[38;5;28;01mraise\u001b[39;00m InvalidIndexError(key)\n\u001b[1;32m-> 3812\u001b[0m     \u001b[38;5;28;01mraise\u001b[39;00m \u001b[38;5;167;01mKeyError\u001b[39;00m(key) \u001b[38;5;28;01mfrom\u001b[39;00m \u001b[38;5;21;01merr\u001b[39;00m\n\u001b[0;32m   3813\u001b[0m \u001b[38;5;28;01mexcept\u001b[39;00m \u001b[38;5;167;01mTypeError\u001b[39;00m:\n\u001b[0;32m   3814\u001b[0m     \u001b[38;5;66;03m# If we have a listlike key, _check_indexing_error will raise\u001b[39;00m\n\u001b[0;32m   3815\u001b[0m     \u001b[38;5;66;03m#  InvalidIndexError. Otherwise we fall through and re-raise\u001b[39;00m\n\u001b[0;32m   3816\u001b[0m     \u001b[38;5;66;03m#  the TypeError.\u001b[39;00m\n\u001b[0;32m   3817\u001b[0m     \u001b[38;5;28mself\u001b[39m\u001b[38;5;241m.\u001b[39m_check_indexing_error(key)\n",
      "\u001b[1;31mKeyError\u001b[0m: '2024.1/4'"
     ]
    }
   ],
   "source": [
    "# 确保两个 DataFrame 具有相同的形状\n",
    "assert staff_data.shape == hospitals_data.shape, \"DataFrames must have the same shape\"\n",
    "\n",
    "# 处理数据列，忽略字符串\n",
    "def clean_and_divide(df1, df2):\n",
    "    # 创建结果 DataFrame 的副本\n",
    "    result = df1.copy()\n",
    "    \n",
    "    # 确定数值列的范围（假设第一列是非数值列）\n",
    "    numeric_columns = df1.columns[1:]  # 从第二列开始假设都是数值列\n",
    "    \n",
    "    for column in numeric_columns:\n",
    "        # 将列转换为字符串类型\n",
    "        df1[column] = df1[column].astype(str)\n",
    "        df2[column] = df2[column].astype(str)\n",
    "        \n",
    "        # 将逗号移除并转换为数值，无法转换的值变为 NaN\n",
    "        df1[column] = pd.to_numeric(df1[column].str.replace(',', ''), errors='coerce')\n",
    "        df2[column] = pd.to_numeric(df2[column].str.replace(',', ''), errors='coerce')\n",
    "        \n",
    "        # 执行逐元素除法\n",
    "        # 为了避免除以零导致的无穷大或错误，使用 `df2[column].replace(0, pd.NA)` 替代 0 以处理除零情况\n",
    "        result[column] = df1[column] / df2[column].replace(0, pd.NA)\n",
    "    \n",
    "    return result\n",
    "\n",
    "# 使用函数计算\n",
    "result = clean_and_divide(staff_data, hospitals_data)\n",
    "\n",
    "# 将索引转移到 DataFrame 的第一列\n",
    "result = result.reset_index()\n",
    "result = result.rename(columns={'index': result.columns[0]})\n",
    "result = result.drop(columns=result.columns[1])  # 删除原来的第一列（索引列）\n",
    "\n",
    "pyg.walk(result)\n"
   ]
  },
  {
   "cell_type": "code",
   "execution_count": null,
   "metadata": {},
   "outputs": [],
   "source": [
    "# 数字到地名的映射字典\n",
    "number_to_location = {\n",
    "    0: '계',\n",
    "    1: '서울특별시',\n",
    "    2: '부산광역시',\n",
    "    3: '대구광역시',\n",
    "    4: '인천광역시',\n",
    "    5: '광주광역시',\n",
    "    6: '대전광역시',\n",
    "    7: '울산광역시',\n",
    "    8: '세종특별자치시',\n",
    "    9: '경기도',\n",
    "    10: '강원특별자치도',\n",
    "    11: '충청북도',\n",
    "    12: '충청남도',\n",
    "    13: '전라북도',\n",
    "    14: '전라남도',\n",
    "    15: '경상북도',\n",
    "    16: '경상남도',\n",
    "    17: '제주특별자치도'\n",
    "}\n"
   ]
  },
  {
   "cell_type": "code",
   "execution_count": null,
   "metadata": {},
   "outputs": [
    {
     "name": "stdout",
     "output_type": "stream",
     "text": [
      "\n",
      "DataFrame with location names as index:\n",
      "         2020.1/4  2021.1/4  2022.1/4  2023.1/4  2024.1/4\n",
      "계          248635    255715    261238    267572    270661\n",
      "서울특별시       62934     64309     65523     67079     67150\n",
      "부산광역시       18745     19107     19473     20030     20191\n",
      "대구광역시       13606     14060     14425     14742     15115\n",
      "인천광역시       12516     13066     13311     13984     14398\n",
      "광주광역시        8944      9064      9145      9348      9371\n",
      "대전광역시        8624      8768      8856      8927      9004\n",
      "울산광역시        4340      4436      4536      4638      4724\n",
      "세종특별자치시       910      1149      1228      1287      1345\n",
      "경기도         53292     55550     57760     60093     61407\n",
      "강원특별자치도      6122      6366      6525      6450      6540\n",
      "충청북도         6543      6622      6769      6798      6947\n",
      "충청남도         8251      8370      8420      8511      8696\n",
      "전라북도         9186      9383      9445      9560      9555\n",
      "전라남도         8261      8431      8549      8504      8466\n",
      "경상북도         9536      9645      9721      9797      9962\n",
      "경상남도        13949     14427     14563     14758     14702\n",
      "제주특별자치도      2876      2962      2989      3066      3088\n"
     ]
    }
   ],
   "source": [
    "staff_data.index = staff_data.index.map(number_to_location)\n",
    "\n",
    "# 打印转换后的 DataFrame\n",
    "print(\"\\nDataFrame with location names as index:\")\n",
    "print(staff_data)"
   ]
  },
  {
   "cell_type": "code",
   "execution_count": null,
   "metadata": {},
   "outputs": [
    {
     "name": "stdout",
     "output_type": "stream",
     "text": [
      "elder_data index:\n",
      "Index([1, 5, 6, 7, 8, 9, 10, 11, 12, 13, 14, 15, 16, 17, 18, 19, 20, 21], dtype='int64')\n",
      "hospitals_data index:\n",
      "Index(['계', '서울특별시', '부산광역시', '대구광역시', '인천광역시', '광주광역시', '대전광역시', '울산광역시',\n",
      "       '세종특별자치시', '경기도', '강원특별자치도', '충청북도', '충청남도', '전라북도', '전라남도', '경상북도',\n",
      "       '경상남도', '제주특별자치도'],\n",
      "      dtype='object', name='시도별(1)')\n"
     ]
    }
   ],
   "source": [
    "print(\"elder_data index:\")\n",
    "print(elder_data.index)\n",
    "\n",
    "print(\"hospitals_data index:\")\n",
    "print(hospitals_data.index)\n"
   ]
  },
  {
   "cell_type": "code",
   "execution_count": null,
   "metadata": {},
   "outputs": [
    {
     "data": {
      "text/plain": [
       "Index(['2020.1/4', '2021.1/4', '2022.1/4', '2023.1/4'], dtype='object')"
      ]
     },
     "execution_count": 31,
     "metadata": {},
     "output_type": "execute_result"
    }
   ],
   "source": [
    "hospitals_data.columns"
   ]
  },
  {
   "cell_type": "code",
   "execution_count": null,
   "metadata": {},
   "outputs": [
    {
     "data": {
      "text/plain": [
       "Index(['성별', '세대구성별', '2020', '2020.1', '2020.2', '2020.3', '2020.4', '2020.5',\n",
       "       '2020.6', '2021', '2021.1', '2021.2', '2021.3', '2021.4', '2021.5',\n",
       "       '2021.6', '2022', '2022.1', '2022.2', '2022.3', '2022.4', '2022.5',\n",
       "       '2022.6', '2023', '2023.1', '2023.2', '2023.3', '2023.4', '2023.5',\n",
       "       '2023.6'],\n",
       "      dtype='object')"
      ]
     },
     "execution_count": 34,
     "metadata": {},
     "output_type": "execute_result"
    }
   ],
   "source": [
    "elder_data.columns"
   ]
  },
  {
   "cell_type": "code",
   "execution_count": null,
   "metadata": {},
   "outputs": [
    {
     "name": "stdout",
     "output_type": "stream",
     "text": [
      "\n",
      "doctor data with location names as index:\n",
      "Index([nan, nan, nan, nan, nan, nan, nan, nan, nan, nan, nan, nan, nan, nan,\n",
      "       nan, nan, nan, nan],\n",
      "      dtype='float64', name='시도별(1)')\n",
      "\n",
      "elder data with location names as index:\n",
      "Index(['행정구역별(시군구)', '전국', '읍부', '면부', '동부', '서울특별시', '부산광역시', '대구광역시',\n",
      "       '인천광역시', '광주광역시', '대전광역시', '울산광역시', '세종특별자치시', '경기도', '강원특별자치도', '충청북도',\n",
      "       '충청남도', '전라북도', '전라남도', '경상북도', '경상남도', '제주특별자치도'],\n",
      "      dtype='object', name='행정구역별(시군구)')\n"
     ]
    },
    {
     "ename": "ValueError",
     "evalue": "Lengths must match to compare",
     "output_type": "error",
     "traceback": [
      "\u001b[1;31m---------------------------------------------------------------------------\u001b[0m",
      "\u001b[1;31mValueError\u001b[0m                                Traceback (most recent call last)",
      "Cell \u001b[1;32mIn[33], line 14\u001b[0m\n\u001b[0;32m     12\u001b[0m \u001b[38;5;28mprint\u001b[39m(\u001b[38;5;124m\"\u001b[39m\u001b[38;5;130;01m\\n\u001b[39;00m\u001b[38;5;124melder data with location names as index:\u001b[39m\u001b[38;5;124m\"\u001b[39m)\n\u001b[0;32m     13\u001b[0m \u001b[38;5;28mprint\u001b[39m(elder_data\u001b[38;5;241m.\u001b[39mindex)\n\u001b[1;32m---> 14\u001b[0m \u001b[38;5;28mprint\u001b[39m(\u001b[43mhospitals_data\u001b[49m\u001b[38;5;241;43m.\u001b[39;49m\u001b[43mindex\u001b[49m\u001b[38;5;241;43m==\u001b[39;49m\u001b[43melder_data\u001b[49m\u001b[38;5;241;43m.\u001b[39;49m\u001b[43mindex\u001b[49m)\n",
      "File \u001b[1;32md:\\anaconda\\Lib\\site-packages\\pandas\\core\\ops\\common.py:76\u001b[0m, in \u001b[0;36m_unpack_zerodim_and_defer.<locals>.new_method\u001b[1;34m(self, other)\u001b[0m\n\u001b[0;32m     72\u001b[0m             \u001b[38;5;28;01mreturn\u001b[39;00m \u001b[38;5;28mNotImplemented\u001b[39m\n\u001b[0;32m     74\u001b[0m other \u001b[38;5;241m=\u001b[39m item_from_zerodim(other)\n\u001b[1;32m---> 76\u001b[0m \u001b[38;5;28;01mreturn\u001b[39;00m \u001b[43mmethod\u001b[49m\u001b[43m(\u001b[49m\u001b[38;5;28;43mself\u001b[39;49m\u001b[43m,\u001b[49m\u001b[43m \u001b[49m\u001b[43mother\u001b[49m\u001b[43m)\u001b[49m\n",
      "File \u001b[1;32md:\\anaconda\\Lib\\site-packages\\pandas\\core\\arraylike.py:40\u001b[0m, in \u001b[0;36mOpsMixin.__eq__\u001b[1;34m(self, other)\u001b[0m\n\u001b[0;32m     38\u001b[0m \u001b[38;5;129m@unpack_zerodim_and_defer\u001b[39m(\u001b[38;5;124m\"\u001b[39m\u001b[38;5;124m__eq__\u001b[39m\u001b[38;5;124m\"\u001b[39m)\n\u001b[0;32m     39\u001b[0m \u001b[38;5;28;01mdef\u001b[39;00m \u001b[38;5;21m__eq__\u001b[39m(\u001b[38;5;28mself\u001b[39m, other):\n\u001b[1;32m---> 40\u001b[0m     \u001b[38;5;28;01mreturn\u001b[39;00m \u001b[38;5;28;43mself\u001b[39;49m\u001b[38;5;241;43m.\u001b[39;49m\u001b[43m_cmp_method\u001b[49m\u001b[43m(\u001b[49m\u001b[43mother\u001b[49m\u001b[43m,\u001b[49m\u001b[43m \u001b[49m\u001b[43moperator\u001b[49m\u001b[38;5;241;43m.\u001b[39;49m\u001b[43meq\u001b[49m\u001b[43m)\u001b[49m\n",
      "File \u001b[1;32md:\\anaconda\\Lib\\site-packages\\pandas\\core\\indexes\\base.py:7185\u001b[0m, in \u001b[0;36mIndex._cmp_method\u001b[1;34m(self, other, op)\u001b[0m\n\u001b[0;32m   7180\u001b[0m         \u001b[38;5;28;01mreturn\u001b[39;00m arr\n\u001b[0;32m   7182\u001b[0m \u001b[38;5;28;01mif\u001b[39;00m \u001b[38;5;28misinstance\u001b[39m(other, (np\u001b[38;5;241m.\u001b[39mndarray, Index, ABCSeries, ExtensionArray)) \u001b[38;5;129;01mand\u001b[39;00m \u001b[38;5;28mlen\u001b[39m(\n\u001b[0;32m   7183\u001b[0m     \u001b[38;5;28mself\u001b[39m\n\u001b[0;32m   7184\u001b[0m ) \u001b[38;5;241m!=\u001b[39m \u001b[38;5;28mlen\u001b[39m(other):\n\u001b[1;32m-> 7185\u001b[0m     \u001b[38;5;28;01mraise\u001b[39;00m \u001b[38;5;167;01mValueError\u001b[39;00m(\u001b[38;5;124m\"\u001b[39m\u001b[38;5;124mLengths must match to compare\u001b[39m\u001b[38;5;124m\"\u001b[39m)\n\u001b[0;32m   7187\u001b[0m \u001b[38;5;28;01mif\u001b[39;00m \u001b[38;5;129;01mnot\u001b[39;00m \u001b[38;5;28misinstance\u001b[39m(other, ABCMultiIndex):\n\u001b[0;32m   7188\u001b[0m     other \u001b[38;5;241m=\u001b[39m extract_array(other, extract_numpy\u001b[38;5;241m=\u001b[39m\u001b[38;5;28;01mTrue\u001b[39;00m)\n",
      "\u001b[1;31mValueError\u001b[0m: Lengths must match to compare"
     ]
    }
   ],
   "source": [
    "#now set the 1st column of elder dataset as the index, and synthesize the doctor dataset same as the elder dataset\n",
    "#change column index of doctor df\n",
    "hospitals_data.columns = ['2020', '2021','2022','2023']\n",
    "#change doctor data index from digits to the location\n",
    "hospitals_data.index = hospitals_data.index.map(number_to_location)\n",
    "\n",
    "#change the elder data 1st column into index\n",
    "elder_data.set_index('행정구역별(시군구)', inplace=True)\n",
    "# 打印转换后的 DataFrame\n",
    "print(\"\\ndoctor data with location names as index:\")\n",
    "print(hospitals_data.index)\n",
    "print(\"\\nelder data with location names as index:\")\n",
    "print(elder_data.index)\n",
    "print(hospitals_data.index==elder_data.index)"
   ]
  },
  {
   "cell_type": "code",
   "execution_count": null,
   "metadata": {},
   "outputs": [
    {
     "ename": "KeyError",
     "evalue": "'2020'",
     "output_type": "error",
     "traceback": [
      "\u001b[1;31m---------------------------------------------------------------------------\u001b[0m",
      "\u001b[1;31mKeyError\u001b[0m                                  Traceback (most recent call last)",
      "File \u001b[1;32md:\\anaconda\\Lib\\site-packages\\pandas\\core\\indexes\\base.py:3805\u001b[0m, in \u001b[0;36mIndex.get_loc\u001b[1;34m(self, key)\u001b[0m\n\u001b[0;32m   3804\u001b[0m \u001b[38;5;28;01mtry\u001b[39;00m:\n\u001b[1;32m-> 3805\u001b[0m     \u001b[38;5;28;01mreturn\u001b[39;00m \u001b[38;5;28;43mself\u001b[39;49m\u001b[38;5;241;43m.\u001b[39;49m\u001b[43m_engine\u001b[49m\u001b[38;5;241;43m.\u001b[39;49m\u001b[43mget_loc\u001b[49m\u001b[43m(\u001b[49m\u001b[43mcasted_key\u001b[49m\u001b[43m)\u001b[49m\n\u001b[0;32m   3806\u001b[0m \u001b[38;5;28;01mexcept\u001b[39;00m \u001b[38;5;167;01mKeyError\u001b[39;00m \u001b[38;5;28;01mas\u001b[39;00m err:\n",
      "File \u001b[1;32mindex.pyx:167\u001b[0m, in \u001b[0;36mpandas._libs.index.IndexEngine.get_loc\u001b[1;34m()\u001b[0m\n",
      "File \u001b[1;32mindex.pyx:196\u001b[0m, in \u001b[0;36mpandas._libs.index.IndexEngine.get_loc\u001b[1;34m()\u001b[0m\n",
      "File \u001b[1;32mpandas\\\\_libs\\\\hashtable_class_helper.pxi:7081\u001b[0m, in \u001b[0;36mpandas._libs.hashtable.PyObjectHashTable.get_item\u001b[1;34m()\u001b[0m\n",
      "File \u001b[1;32mpandas\\\\_libs\\\\hashtable_class_helper.pxi:7089\u001b[0m, in \u001b[0;36mpandas._libs.hashtable.PyObjectHashTable.get_item\u001b[1;34m()\u001b[0m\n",
      "\u001b[1;31mKeyError\u001b[0m: '2020'",
      "\nThe above exception was the direct cause of the following exception:\n",
      "\u001b[1;31mKeyError\u001b[0m                                  Traceback (most recent call last)",
      "Cell \u001b[1;32mIn[42], line 13\u001b[0m\n\u001b[0;32m     10\u001b[0m \u001b[38;5;28;01mfor\u001b[39;00m col \u001b[38;5;129;01min\u001b[39;00m elder_data\u001b[38;5;241m.\u001b[39mcolumns[\u001b[38;5;241m1\u001b[39m:]:  \u001b[38;5;66;03m# 忽略第一列 '행정구역별(시군구)'\u001b[39;00m\n\u001b[0;32m     11\u001b[0m     elder_data[col] \u001b[38;5;241m=\u001b[39m elder_data[col]\u001b[38;5;241m.\u001b[39mastype(\u001b[38;5;28mint\u001b[39m)\n\u001b[1;32m---> 13\u001b[0m result \u001b[38;5;241m=\u001b[39m \u001b[43mclean_and_divide\u001b[49m\u001b[43m(\u001b[49m\u001b[43melder_data\u001b[49m\u001b[43m,\u001b[49m\u001b[43m \u001b[49m\u001b[43mhospitals_data\u001b[49m\u001b[43m)\u001b[49m\n\u001b[0;32m     14\u001b[0m pyg\u001b[38;5;241m.\u001b[39mwalk(result)\n",
      "Cell \u001b[1;32mIn[40], line 15\u001b[0m, in \u001b[0;36mclean_and_divide\u001b[1;34m(df1, df2)\u001b[0m\n\u001b[0;32m     12\u001b[0m \u001b[38;5;28;01mfor\u001b[39;00m column \u001b[38;5;129;01min\u001b[39;00m numeric_columns:\n\u001b[0;32m     13\u001b[0m     \u001b[38;5;66;03m# 将列转换为字符串类型\u001b[39;00m\n\u001b[0;32m     14\u001b[0m     df1[column] \u001b[38;5;241m=\u001b[39m df1[column]\u001b[38;5;241m.\u001b[39mastype(\u001b[38;5;28mstr\u001b[39m)\n\u001b[1;32m---> 15\u001b[0m     df2[column] \u001b[38;5;241m=\u001b[39m \u001b[43mdf2\u001b[49m\u001b[43m[\u001b[49m\u001b[43mcolumn\u001b[49m\u001b[43m]\u001b[49m\u001b[38;5;241m.\u001b[39mastype(\u001b[38;5;28mstr\u001b[39m)\n\u001b[0;32m     17\u001b[0m     \u001b[38;5;66;03m# 将逗号移除并转换为数值，无法转换的值变为 NaN\u001b[39;00m\n\u001b[0;32m     18\u001b[0m     df1[column] \u001b[38;5;241m=\u001b[39m pd\u001b[38;5;241m.\u001b[39mto_numeric(df1[column]\u001b[38;5;241m.\u001b[39mstr\u001b[38;5;241m.\u001b[39mreplace(\u001b[38;5;124m'\u001b[39m\u001b[38;5;124m,\u001b[39m\u001b[38;5;124m'\u001b[39m, \u001b[38;5;124m'\u001b[39m\u001b[38;5;124m'\u001b[39m), errors\u001b[38;5;241m=\u001b[39m\u001b[38;5;124m'\u001b[39m\u001b[38;5;124mcoerce\u001b[39m\u001b[38;5;124m'\u001b[39m)\n",
      "File \u001b[1;32md:\\anaconda\\Lib\\site-packages\\pandas\\core\\frame.py:4102\u001b[0m, in \u001b[0;36mDataFrame.__getitem__\u001b[1;34m(self, key)\u001b[0m\n\u001b[0;32m   4100\u001b[0m \u001b[38;5;28;01mif\u001b[39;00m \u001b[38;5;28mself\u001b[39m\u001b[38;5;241m.\u001b[39mcolumns\u001b[38;5;241m.\u001b[39mnlevels \u001b[38;5;241m>\u001b[39m \u001b[38;5;241m1\u001b[39m:\n\u001b[0;32m   4101\u001b[0m     \u001b[38;5;28;01mreturn\u001b[39;00m \u001b[38;5;28mself\u001b[39m\u001b[38;5;241m.\u001b[39m_getitem_multilevel(key)\n\u001b[1;32m-> 4102\u001b[0m indexer \u001b[38;5;241m=\u001b[39m \u001b[38;5;28;43mself\u001b[39;49m\u001b[38;5;241;43m.\u001b[39;49m\u001b[43mcolumns\u001b[49m\u001b[38;5;241;43m.\u001b[39;49m\u001b[43mget_loc\u001b[49m\u001b[43m(\u001b[49m\u001b[43mkey\u001b[49m\u001b[43m)\u001b[49m\n\u001b[0;32m   4103\u001b[0m \u001b[38;5;28;01mif\u001b[39;00m is_integer(indexer):\n\u001b[0;32m   4104\u001b[0m     indexer \u001b[38;5;241m=\u001b[39m [indexer]\n",
      "File \u001b[1;32md:\\anaconda\\Lib\\site-packages\\pandas\\core\\indexes\\base.py:3812\u001b[0m, in \u001b[0;36mIndex.get_loc\u001b[1;34m(self, key)\u001b[0m\n\u001b[0;32m   3807\u001b[0m     \u001b[38;5;28;01mif\u001b[39;00m \u001b[38;5;28misinstance\u001b[39m(casted_key, \u001b[38;5;28mslice\u001b[39m) \u001b[38;5;129;01mor\u001b[39;00m (\n\u001b[0;32m   3808\u001b[0m         \u001b[38;5;28misinstance\u001b[39m(casted_key, abc\u001b[38;5;241m.\u001b[39mIterable)\n\u001b[0;32m   3809\u001b[0m         \u001b[38;5;129;01mand\u001b[39;00m \u001b[38;5;28many\u001b[39m(\u001b[38;5;28misinstance\u001b[39m(x, \u001b[38;5;28mslice\u001b[39m) \u001b[38;5;28;01mfor\u001b[39;00m x \u001b[38;5;129;01min\u001b[39;00m casted_key)\n\u001b[0;32m   3810\u001b[0m     ):\n\u001b[0;32m   3811\u001b[0m         \u001b[38;5;28;01mraise\u001b[39;00m InvalidIndexError(key)\n\u001b[1;32m-> 3812\u001b[0m     \u001b[38;5;28;01mraise\u001b[39;00m \u001b[38;5;167;01mKeyError\u001b[39;00m(key) \u001b[38;5;28;01mfrom\u001b[39;00m \u001b[38;5;21;01merr\u001b[39;00m\n\u001b[0;32m   3813\u001b[0m \u001b[38;5;28;01mexcept\u001b[39;00m \u001b[38;5;167;01mTypeError\u001b[39;00m:\n\u001b[0;32m   3814\u001b[0m     \u001b[38;5;66;03m# If we have a listlike key, _check_indexing_error will raise\u001b[39;00m\n\u001b[0;32m   3815\u001b[0m     \u001b[38;5;66;03m#  InvalidIndexError. Otherwise we fall through and re-raise\u001b[39;00m\n\u001b[0;32m   3816\u001b[0m     \u001b[38;5;66;03m#  the TypeError.\u001b[39;00m\n\u001b[0;32m   3817\u001b[0m     \u001b[38;5;28mself\u001b[39m\u001b[38;5;241m.\u001b[39m_check_indexing_error(key)\n",
      "\u001b[1;31mKeyError\u001b[0m: '2020'"
     ]
    }
   ],
   "source": [
    "#only save the regional info, and only save the data collected elders who older than 60 ages\n",
    "column_to_save = ['행정구역별(시군구)','2020','2021','2022','2023']\n",
    "elder_data = elder_data[column_to_save]\n",
    "\n",
    "#delete the 행정구역별(시군구),읍부,면부,동부\n",
    "rows_to_drop = [0,2,3,4] \n",
    "elder_data = elder_data.drop(index=rows_to_drop)\n",
    "\n",
    "# 将字符串转换为整数\n",
    "for col in elder_data.columns[1:]:  # 忽略第一列 '행정구역별(시군구)'\n",
    "    elder_data[col] = elder_data[col].astype(int)\n",
    "\n",
    "result = clean_and_divide(elder_data, hospitals_data)\n",
    "pyg.walk(result)"
   ]
  },
  {
   "cell_type": "code",
   "execution_count": null,
   "metadata": {},
   "outputs": [
    {
     "name": "stdout",
     "output_type": "stream",
     "text": [
      "elder_data.shape=(22, 30)\n",
      "hospitals_data.shape=(18, 4)\n",
      "\n",
      "elder_data.columns=Index(['성별', '세대구성별', '2020', '2020.1', '2020.2', '2020.3', '2020.4', '2020.5',\n",
      "       '2020.6', '2021', '2021.1', '2021.2', '2021.3', '2021.4', '2021.5',\n",
      "       '2021.6', '2022', '2022.1', '2022.2', '2022.3', '2022.4', '2022.5',\n",
      "       '2022.6', '2023', '2023.1', '2023.2', '2023.3', '2023.4', '2023.5',\n",
      "       '2023.6'],\n",
      "      dtype='object')\n",
      "hospitals_data.columns=Index(['2020.1/4', '2021.1/4', '2022.1/4', '2023.1/4'], dtype='object')\n",
      "\n",
      "elder_data.index=Index(['행정구역별(시군구)', '전국', '읍부', '면부', '동부', '서울특별시', '부산광역시', '대구광역시',\n",
      "       '인천광역시', '광주광역시', '대전광역시', '울산광역시', '세종특별자치시', '경기도', '강원특별자치도', '충청북도',\n",
      "       '충청남도', '전라북도', '전라남도', '경상북도', '경상남도', '제주특별자치도'],\n",
      "      dtype='object', name='행정구역별(시군구)')\n",
      "hospitals_data.index=Index(['계', '서울특별시', '부산광역시', '대구광역시', '인천광역시', '광주광역시', '대전광역시', '울산광역시',\n",
      "       '세종특별자치시', '경기도', '강원특별자치도', '충청북도', '충청남도', '전라북도', '전라남도', '경상북도',\n",
      "       '경상남도', '제주특별자치도'],\n",
      "      dtype='object', name='시도별(1)')\n",
      "\n"
     ]
    }
   ],
   "source": [
    "elder_data = elder_data.set_index('행정구역별(시군구)')\n",
    "print(f'{elder_data.shape=}\\n{hospitals_data.shape=}\\n')\n",
    "print(f'{elder_data.columns=}\\n{hospitals_data.columns=}\\n')\n",
    "print(f'{elder_data.index=}\\n{hospitals_data.index=}\\n')\n",
    "\n"
   ]
  }
 ],
 "metadata": {
  "kernelspec": {
   "display_name": "base",
   "language": "python",
   "name": "python3"
  },
  "language_info": {
   "codemirror_mode": {
    "name": "ipython",
    "version": 3
   },
   "file_extension": ".py",
   "mimetype": "text/x-python",
   "name": "python",
   "nbconvert_exporter": "python",
   "pygments_lexer": "ipython3",
   "version": "3.11.9"
  }
 },
 "nbformat": 4,
 "nbformat_minor": 2
}
