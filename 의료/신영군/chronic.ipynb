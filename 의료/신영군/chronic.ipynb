{
 "cells": [
  {
   "cell_type": "code",
   "execution_count": 118,
   "metadata": {},
   "outputs": [],
   "source": [
    "import pandas as pd\n",
    "import pygwalker as pyg\n",
    "import numpy as np\n",
    "from matplotlib import pyplot as plt\n",
    "from scipy.stats import pearsonr"
   ]
  },
  {
   "cell_type": "markdown",
   "metadata": {},
   "source": [
    "DIABETE"
   ]
  },
  {
   "cell_type": "code",
   "execution_count": 105,
   "metadata": {},
   "outputs": [],
   "source": [
    "diabete = pd.read_csv('diabete.csv', encoding='EUC-KR')"
   ]
  },
  {
   "cell_type": "code",
   "execution_count": 106,
   "metadata": {},
   "outputs": [
    {
     "data": {
      "application/vnd.jupyter.widget-view+json": {
       "model_id": "cbb97bb92a0347729ce0a0e746a1a36e",
       "version_major": 2,
       "version_minor": 0
      },
      "text/plain": [
       "Box(children=(HTML(value='\\n<div id=\"ifr-pyg-00061ebf0b30745eYnrR7IqVbJxZTjwm\" style=\"height: auto\">\\n    <hea…"
      ]
     },
     "metadata": {},
     "output_type": "display_data"
    },
    {
     "data": {
      "text/html": [],
      "text/plain": [
       "<IPython.core.display.HTML object>"
      ]
     },
     "metadata": {},
     "output_type": "display_data"
    },
    {
     "data": {
      "text/plain": [
       "<pygwalker.api.pygwalker.PygWalker at 0x18c82146510>"
      ]
     },
     "execution_count": 106,
     "metadata": {},
     "output_type": "execute_result"
    }
   ],
   "source": [
    "diabete = diabete[diabete['성별(1)']=='전체']\n",
    "diabete_column_to_save = ['연령별(1)','2020','2021','2022']\n",
    "diabete = diabete[diabete_column_to_save]\n",
    "diabete = diabete.drop(index=[1,6,7])\n",
    "diabete['연령별(1)'] = [35,45,55,65]\n",
    "diabete = diabete[diabete_column_to_save].astype(int)\n",
    "diabete = pd.melt(diabete,id_vars='연령별(1)',value_vars=['2020','2021','2022'])\n",
    "\n",
    "pyg.walk(diabete)"
   ]
  },
  {
   "cell_type": "code",
   "execution_count": 107,
   "metadata": {},
   "outputs": [],
   "source": [
    "age = diabete['연령별(1)']\n",
    "quantity = diabete['value']\n"
   ]
  },
  {
   "cell_type": "code",
   "execution_count": 108,
   "metadata": {},
   "outputs": [
    {
     "name": "stdout",
     "output_type": "stream",
     "text": [
      "correlation coefficient of \n",
      "variable \"연령\" and \"당뇨병\"=0.9135842629443411\n",
      "p_value=3.2780490672409795e-05\n"
     ]
    }
   ],
   "source": [
    "\n",
    "correlation_coefficient, p_value = pearsonr(age, quantity)\n",
    "\n",
    "print(f'correlation coefficient of \\nvariable \"연령\" and \"당뇨병\"={correlation_coefficient}\\n{p_value=}')"
   ]
  },
  {
   "cell_type": "markdown",
   "metadata": {},
   "source": [
    "high blood pressure"
   ]
  },
  {
   "cell_type": "code",
   "execution_count": 122,
   "metadata": {},
   "outputs": [],
   "source": [
    "hbp = pd.read_csv('hbp.csv', encoding='utf-8')"
   ]
  },
  {
   "cell_type": "code",
   "execution_count": 123,
   "metadata": {},
   "outputs": [
    {
     "data": {
      "application/vnd.jupyter.widget-view+json": {
       "model_id": "42e04e72de5b40e88cd3031f7cca46a5",
       "version_major": 2,
       "version_minor": 0
      },
      "text/plain": [
       "Box(children=(HTML(value='\\n<div id=\"ifr-pyg-00061ebf2fbae22bItlMbhDRf0i26TFQ\" style=\"height: auto\">\\n    <hea…"
      ]
     },
     "metadata": {},
     "output_type": "display_data"
    },
    {
     "data": {
      "text/html": [],
      "text/plain": [
       "<IPython.core.display.HTML object>"
      ]
     },
     "metadata": {},
     "output_type": "display_data"
    },
    {
     "data": {
      "text/plain": [
       "<pygwalker.api.pygwalker.PygWalker at 0x18c854597d0>"
      ]
     },
     "execution_count": 123,
     "metadata": {},
     "output_type": "execute_result"
    }
   ],
   "source": [
    "pyg.walk(hbp)"
   ]
  },
  {
   "cell_type": "code",
   "execution_count": 124,
   "metadata": {},
   "outputs": [
    {
     "data": {
      "application/vnd.jupyter.widget-view+json": {
       "model_id": "d894db37056d4ee397a2d9d1dcdec59f",
       "version_major": 2,
       "version_minor": 0
      },
      "text/plain": [
       "Box(children=(HTML(value='\\n<div id=\"ifr-pyg-00061ebf32a13a66W2zFcQKUwfGlA83L\" style=\"height: auto\">\\n    <hea…"
      ]
     },
     "metadata": {},
     "output_type": "display_data"
    },
    {
     "data": {
      "text/html": [],
      "text/plain": [
       "<IPython.core.display.HTML object>"
      ]
     },
     "metadata": {},
     "output_type": "display_data"
    },
    {
     "data": {
      "text/plain": [
       "<pygwalker.api.pygwalker.PygWalker at 0x18c853ed810>"
      ]
     },
     "execution_count": 124,
     "metadata": {},
     "output_type": "execute_result"
    }
   ],
   "source": [
    "\n",
    "feature_condition = hbp['특성별(1)'] == '연령별'\n",
    "sex_condition = hbp['성별(1)'] == '전체'\n",
    "hbp = hbp[feature_condition&sex_condition]\n",
    "hbp_column_to_save = ['특성별(2)','2022.1']\n",
    "hbp = hbp[hbp_column_to_save]\n",
    "# hbp = hbp['2022'].astype(int)\n",
    "# hbp = hbp['특성별(2)'] = [25,35,45,55,66,75]\n",
    "pyg.walk(hbp)"
   ]
  },
  {
   "cell_type": "code",
   "execution_count": 125,
   "metadata": {},
   "outputs": [
    {
     "name": "stdout",
     "output_type": "stream",
     "text": [
      "correlation coefficient of \n",
      "variable \"연령\" and \"고혈압비율\"=0.9798880641230815\n",
      "p_value=0.0006026674089593039\n"
     ]
    }
   ],
   "source": [
    "age_groups = np.array([19, 30, 40, 50, 60, 70])\n",
    "values = np.array([4.3, 8.7, 20.1, 33.5, 48.9, 68.7])\n",
    "\n",
    "# 计算皮尔逊相关系数\n",
    "correlation_coefficient, p_value = pearsonr(age_groups, values)\n",
    "\n",
    "print(f'correlation coefficient of \\nvariable \"연령\" and \"고혈압비율\"={correlation_coefficient}\\n{p_value=}')"
   ]
  }
 ],
 "metadata": {
  "kernelspec": {
   "display_name": "base",
   "language": "python",
   "name": "python3"
  },
  "language_info": {
   "codemirror_mode": {
    "name": "ipython",
    "version": 3
   },
   "file_extension": ".py",
   "mimetype": "text/x-python",
   "name": "python",
   "nbconvert_exporter": "python",
   "pygments_lexer": "ipython3",
   "version": "3.11.9"
  }
 },
 "nbformat": 4,
 "nbformat_minor": 2
}
