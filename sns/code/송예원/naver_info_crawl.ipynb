{
  "cells": [
    {
      "cell_type": "markdown",
      "metadata": {
        "id": "P-ZF5xw9T9GA"
      },
      "source": [
        "### 기본 세팅"
      ]
    },
    {
      "cell_type": "code",
      "execution_count": 1,
      "metadata": {
        "colab": {
          "base_uri": "https://localhost:8080/",
          "height": 619
        },
        "id": "QrrIBZxLTgVp",
        "outputId": "674898fa-aaf9-4fb1-da81-e914552a4094"
      },
      "outputs": [],
      "source": [
        "from selenium import webdriver\n",
        "from selenium.webdriver.chrome.service import Service\n",
        "from webdriver_manager.chrome import ChromeDriverManager\n",
        "from selenium.webdriver.common.by import By\n",
        "from selenium.webdriver.common.keys import Keys\n",
        "from selenium.webdriver.common.action_chains import ActionChains\n",
        "from selenium.webdriver.support.ui import WebDriverWait\n",
        "from selenium.webdriver.support import expected_conditions as EC\n",
        "from selenium.webdriver.common.actions.wheel_input import ScrollOrigin\n",
        "import time\n",
        "import pandas as pd\n",
        "import re"
      ]
    },
    {
      "cell_type": "code",
      "execution_count": null,
      "metadata": {},
      "outputs": [],
      "source": [
        "chrome_options = webdriver.ChromeOptions()\n",
        "chrome_options.add_argument('--headless')\n",
        "chrome_options.add_argument('--no-sandbox')\n",
        "chrome_options.add_argument('--disable-dev-shm-usage')"
      ]
    },
    {
      "cell_type": "code",
      "execution_count": null,
      "metadata": {},
      "outputs": [],
      "source": [
        "driver = webdriver.Chrome(options=chrome_options)"
      ]
    },
    {
      "cell_type": "code",
      "execution_count": null,
      "metadata": {},
      "outputs": [],
      "source": [
        "# driver = webdriver.Chrome()"
      ]
    },
    {
      "cell_type": "code",
      "execution_count": 2,
      "metadata": {},
      "outputs": [],
      "source": [
        "def scroll_down(driver, scroll_ratio): \n",
        "    total_height = driver.execute_script(\"return document.body.scrollHeight\") # 현재 문서의 전체 높이 가져오기\n",
        "    scroll_position = total_height * scroll_ratio # 스크롤할 위치 계산\n",
        "    driver.execute_script(f\"window.scrollTo(0, {scroll_position});\") # 스크롤 실행\n",
        "    time.sleep(2) # 짧은 시간 대기"
      ]
    },
    {
      "cell_type": "code",
      "execution_count": 3,
      "metadata": {},
      "outputs": [],
      "source": [
        "def review_scroller(scroll):\n",
        "    scroll_attempts = 0  # 스크롤 시도 횟수\n",
        "    max_attempts = 5     # 최대 시도 횟수\n",
        "    number = 0\n",
        "\n",
        "    while True:\n",
        "        number = number + 1\n",
        "        print(number)  # 스크롤 횟수\n",
        "\n",
        "        # 스크롤 전 문서 높이\n",
        "        last_height = driver.execute_script(\"return arguments[0].scrollHeight\", scroll)  # 현재 문서의 높이\n",
        "        print(f'last height: {last_height}')\n",
        "\n",
        "        # 선택한 요소를 기준으로 페이지를 10000 픽셀 아래로 스크롤\n",
        "        driver.execute_script('arguments[0].scrollBy(0, 10000);', scroll)\n",
        "        time.sleep(2)  # 스크롤 후 대기\n",
        "\n",
        "        # 스크롤 후 문서 높이\n",
        "        new_height = driver.execute_script(\"return arguments[0].scrollHeight\", scroll)\n",
        "        print(f'new height: {new_height}')\n",
        "\n",
        "        if new_height == last_height:\n",
        "            scroll_attempts += 1\n",
        "        else:\n",
        "            scroll_attempts = 0\n",
        "\n",
        "        if scroll_attempts >= max_attempts:\n",
        "            break"
      ]
    },
    {
      "cell_type": "code",
      "execution_count": 4,
      "metadata": {},
      "outputs": [],
      "source": [
        "driver.maximize_window() "
      ]
    },
    {
      "cell_type": "code",
      "execution_count": null,
      "metadata": {},
      "outputs": [],
      "source": [
        "driver.quit()"
      ]
    },
    {
      "cell_type": "markdown",
      "metadata": {
        "id": "JKtgJJJRiZrr"
      },
      "source": [
        "## 영화 정보 페이지"
      ]
    },
    {
      "cell_type": "code",
      "execution_count": 10,
      "metadata": {
        "colab": {
          "base_uri": "https://localhost:8080/",
          "height": 34
        },
        "id": "uW_CycjhWPSJ",
        "outputId": "a0ec1546-e429-4cd0-d4a2-422f586d8e3f"
      },
      "outputs": [],
      "source": [
        "def get_movie_info(keyword):\n",
        "    search_keyword = \"영화 \" + keyword \n",
        "    base_url = \"https://search.naver.com/search.naver?where=view&sm=tab_jum&query=\"\n",
        "    search_url = base_url + search_keyword\n",
        "    driver.get(search_url)\n",
        "    time.sleep(3)\n",
        "\n",
        "    try:\n",
        "        specific = driver.find_element(By.XPATH, '/html/body/div[3]/div[2]/div[1]/div[1]/section[1]/div/div/div')\n",
        "        if '제외한 상세검색 결과입니다' in specific.text:\n",
        "            driver.find_element(By.CSS_SELECTOR, 'a.more_link').click()\n",
        "            print(\"일반 결과 클릭\")\n",
        "            time.sleep(2)\n",
        "    except Exception as e:\n",
        "        pass\n",
        "\n",
        "    #정보 창으로 이동 \n",
        "    try:\n",
        "        for j in range(5): \n",
        "            element = driver.find_elements(By.CSS_SELECTOR, 'span.menu')[j]\n",
        "            if '기본정보' in element.text:\n",
        "                element.click()\n",
        "                time.sleep(2)\n",
        "    except Exception as e:\n",
        "        pass\n",
        "\n",
        "    def get_text_or_na(xpath):\n",
        "        try:\n",
        "            element = driver.find_element(By.XPATH, xpath)\n",
        "            return element[0].text\n",
        "        except Exception:\n",
        "            return \"NA\"\n",
        "\n",
        "    # Age rating\n",
        "    grade = get_text_or_na('//*[@id=\"main_pack\"]/div[3]/div[2]/div[1]/div/div[1]/dl/div[2]/dd')\n",
        "    \n",
        "    # Genre\n",
        "    genre = get_text_or_na('//*[@id=\"main_pack\"]/div[3]/div[2]/div[1]/div/div[1]/dl/div[3]/dd')\n",
        "    \n",
        "    # Running time\n",
        "    running_time = get_text_or_na('//*[@id=\"main_pack\"]/div[3]/div[2]/div[1]/div/div[1]/dl/div[5]/dd')\n",
        "    \n",
        "    # Add elements to list\n",
        "    add_elements = [keyword, grade, genre, running_time]\n",
        "    return add_elements\n"
      ]
    },
    {
      "cell_type": "code",
      "execution_count": null,
      "metadata": {},
      "outputs": [],
      "source": [
        "movie_list = []"
      ]
    },
    {
      "cell_type": "code",
      "execution_count": 13,
      "metadata": {},
      "outputs": [
        {
          "name": "stdout",
          "output_type": "stream",
          "text": [
            "1 movie info crawled\n",
            "['인사이드아웃2', '전체 관람가', '애니메이션', '96분', '켈시 맨\\n감독', ['에이미 포엘러', '마야 호크', '루이스 블랙', '필리스 스미스', '토니 헤일']]\n",
            "2 movie info crawled\n",
            "['이프', '전체 관람가', '코미디, 드라마, 가족', '104분', '존 크래신스키\\n감독', ['라이언 레이놀즈', '케일리 플레밍', '존 크래신스키', '피오나 쇼우', '바비 모니한', '스티브 카렐', '아콰피나']]\n"
          ]
        }
      ],
      "source": [
        "i = 0\n",
        "for movie in movie_list:\n",
        "    movie_info_df = pd.DataFrame(columns=['keyword','grade','genre','running_time'])\n",
        "    add_elements = get_movie_info(movie)\n",
        "    print(f'{i+1}th movie info crawled') \n",
        "    print(add_elements)\n",
        "    movie_info_df.loc[i] = add_elements\n",
        "    i += 1\n",
        "    movie_info_df.to_csv(f'/Users/yewonsong/desktop/info/2016_movie_info.csv',index=True)"
      ]
    },
    {
      "cell_type": "code",
      "execution_count": 12,
      "metadata": {},
      "outputs": [
        {
          "data": {
            "text/html": [
              "<div>\n",
              "<style scoped>\n",
              "    .dataframe tbody tr th:only-of-type {\n",
              "        vertical-align: middle;\n",
              "    }\n",
              "\n",
              "    .dataframe tbody tr th {\n",
              "        vertical-align: top;\n",
              "    }\n",
              "\n",
              "    .dataframe thead th {\n",
              "        text-align: right;\n",
              "    }\n",
              "</style>\n",
              "<table border=\"1\" class=\"dataframe\">\n",
              "  <thead>\n",
              "    <tr style=\"text-align: right;\">\n",
              "      <th></th>\n",
              "      <th>keyword</th>\n",
              "      <th>grade</th>\n",
              "      <th>genre</th>\n",
              "      <th>running_time</th>\n",
              "      <th>director</th>\n",
              "      <th>actors_list</th>\n",
              "    </tr>\n",
              "  </thead>\n",
              "  <tbody>\n",
              "    <tr>\n",
              "      <th>0</th>\n",
              "      <td>인사이드아웃2</td>\n",
              "      <td>전체 관람가</td>\n",
              "      <td>애니메이션</td>\n",
              "      <td>96분</td>\n",
              "      <td>켈시 맨\\n감독</td>\n",
              "      <td>[에이미 포엘러, 마야 호크, 루이스 블랙, 필리스 스미스, 토니 헤일]</td>\n",
              "    </tr>\n",
              "    <tr>\n",
              "      <th>1</th>\n",
              "      <td>이프</td>\n",
              "      <td>전체 관람가</td>\n",
              "      <td>코미디, 드라마, 가족</td>\n",
              "      <td>104분</td>\n",
              "      <td>존 크래신스키\\n감독</td>\n",
              "      <td>[라이언 레이놀즈, 케일리 플레밍, 존 크래신스키, 피오나 쇼우, 바비 모니한, 스...</td>\n",
              "    </tr>\n",
              "  </tbody>\n",
              "</table>\n",
              "</div>"
            ],
            "text/plain": [
              "   keyword   grade         genre running_time     director  \\\n",
              "0  인사이드아웃2  전체 관람가         애니메이션          96분     켈시 맨\\n감독   \n",
              "1       이프  전체 관람가  코미디, 드라마, 가족         104분  존 크래신스키\\n감독   \n",
              "\n",
              "                                         actors_list  \n",
              "0           [에이미 포엘러, 마야 호크, 루이스 블랙, 필리스 스미스, 토니 헤일]  \n",
              "1  [라이언 레이놀즈, 케일리 플레밍, 존 크래신스키, 피오나 쇼우, 바비 모니한, 스...  "
            ]
          },
          "execution_count": 12,
          "metadata": {},
          "output_type": "execute_result"
        }
      ],
      "source": [
        "movie_info_df "
      ]
    }
  ],
  "metadata": {
    "colab": {
      "provenance": []
    },
    "kernelspec": {
      "display_name": "Python 3",
      "name": "python3"
    },
    "language_info": {
      "codemirror_mode": {
        "name": "ipython",
        "version": 3
      },
      "file_extension": ".py",
      "mimetype": "text/x-python",
      "name": "python",
      "nbconvert_exporter": "python",
      "pygments_lexer": "ipython3",
      "version": "3.8.8rc1"
    }
  },
  "nbformat": 4,
  "nbformat_minor": 0
}
